{
 "cells": [
  {
   "cell_type": "markdown",
   "id": "1fdbe4a0",
   "metadata": {},
   "source": [
    "- Function \n",
    "   -A group of statements or a blcok of code which performs a specific task when it is called\n",
    "\n",
    "- Types of functions\n",
    "     - Pre-Defined Functions\n",
    "     - print, input,type, int, float, str, range, list, tuple, set, dict, min, max, abs, sum, chr, ord\n",
    "     - User Defined Functions"
   ]
  },
  {
   "cell_type": "code",
   "execution_count": 11,
   "id": "64d3688c",
   "metadata": {},
   "outputs": [
    {
     "data": {
      "text/plain": [
       "' '"
      ]
     },
     "execution_count": 11,
     "metadata": {},
     "output_type": "execute_result"
    }
   ],
   "source": [
    "s = \"This is a string with few characters 5678\"\n",
    "min(s)"
   ]
  },
  {
   "cell_type": "code",
   "execution_count": 12,
   "id": "0ad05377",
   "metadata": {},
   "outputs": [
    {
     "data": {
      "text/plain": [
       "'a'"
      ]
     },
     "execution_count": 12,
     "metadata": {},
     "output_type": "execute_result"
    }
   ],
   "source": [
    "chr(97)"
   ]
  },
  {
   "cell_type": "code",
   "execution_count": 13,
   "id": "4a623858",
   "metadata": {},
   "outputs": [
    {
     "data": {
      "text/plain": [
       "' '"
      ]
     },
     "execution_count": 13,
     "metadata": {},
     "output_type": "execute_result"
    }
   ],
   "source": [
    "chr(32)"
   ]
  },
  {
   "cell_type": "code",
   "execution_count": 14,
   "id": "10b48c3d",
   "metadata": {},
   "outputs": [
    {
     "data": {
      "text/plain": [
       "84"
      ]
     },
     "execution_count": 14,
     "metadata": {},
     "output_type": "execute_result"
    }
   ],
   "source": [
    "ord('T')"
   ]
  },
  {
   "cell_type": "code",
   "execution_count": 15,
   "id": "aa745891",
   "metadata": {},
   "outputs": [
    {
     "data": {
      "text/plain": [
       "32"
      ]
     },
     "execution_count": 15,
     "metadata": {},
     "output_type": "execute_result"
    }
   ],
   "source": [
    "ord(' ')"
   ]
  },
  {
   "cell_type": "code",
   "execution_count": 9,
   "id": "e25cdeff",
   "metadata": {},
   "outputs": [
    {
     "data": {
      "text/plain": [
       "111"
      ]
     },
     "execution_count": 9,
     "metadata": {},
     "output_type": "execute_result"
    }
   ],
   "source": [
    "ord('o')"
   ]
  },
  {
   "cell_type": "code",
   "execution_count": 10,
   "id": "83072cba",
   "metadata": {},
   "outputs": [
    {
     "name": "stdout",
     "output_type": "stream",
     "text": [
      "w\n"
     ]
    },
    {
     "data": {
      "text/plain": [
       "' '"
      ]
     },
     "execution_count": 10,
     "metadata": {},
     "output_type": "execute_result"
    }
   ],
   "source": [
    "s = \"string with characters and digits 0123 @(\"\n",
    "print(max(s))\n",
    "min(s)"
   ]
  },
  {
   "cell_type": "code",
   "execution_count": 16,
   "id": "8b758f4f",
   "metadata": {},
   "outputs": [
    {
     "data": {
      "text/plain": [
       "'0'"
      ]
     },
     "execution_count": 16,
     "metadata": {},
     "output_type": "execute_result"
    }
   ],
   "source": [
    "s1 = \"0123abcde\"\n",
    "min(s1)"
   ]
  },
  {
   "cell_type": "code",
   "execution_count": 17,
   "id": "908ff0eb",
   "metadata": {},
   "outputs": [
    {
     "data": {
      "text/plain": [
       "'0'"
      ]
     },
     "execution_count": 17,
     "metadata": {},
     "output_type": "execute_result"
    }
   ],
   "source": [
    "min(s1)"
   ]
  },
  {
   "cell_type": "code",
   "execution_count": 18,
   "id": "af88ecc1",
   "metadata": {},
   "outputs": [
    {
     "data": {
      "text/plain": [
       "111"
      ]
     },
     "execution_count": 18,
     "metadata": {},
     "output_type": "execute_result"
    }
   ],
   "source": [
    "ord(\"o\")"
   ]
  },
  {
   "cell_type": "code",
   "execution_count": 19,
   "id": "aca33045",
   "metadata": {},
   "outputs": [
    {
     "ename": "TypeError",
     "evalue": "'int' object is not iterable",
     "output_type": "error",
     "traceback": [
      "\u001b[1;31m---------------------------------------------------------------------------\u001b[0m",
      "\u001b[1;31mTypeError\u001b[0m                                 Traceback (most recent call last)",
      "\u001b[1;32m<ipython-input-19-acf0e437ee47>\u001b[0m in \u001b[0;36m<module>\u001b[1;34m\u001b[0m\n\u001b[0;32m      1\u001b[0m \u001b[0ms2\u001b[0m \u001b[1;33m=\u001b[0m \u001b[1;36m1234\u001b[0m\u001b[1;33m\u001b[0m\u001b[1;33m\u001b[0m\u001b[0m\n\u001b[1;32m----> 2\u001b[1;33m \u001b[0mmin\u001b[0m\u001b[1;33m(\u001b[0m\u001b[0ms2\u001b[0m\u001b[1;33m)\u001b[0m\u001b[1;33m\u001b[0m\u001b[1;33m\u001b[0m\u001b[0m\n\u001b[0m",
      "\u001b[1;31mTypeError\u001b[0m: 'int' object is not iterable"
     ]
    }
   ],
   "source": [
    "s2 = 1234\n",
    "min(s2)"
   ]
  },
  {
   "cell_type": "code",
   "execution_count": 20,
   "id": "58025c2d",
   "metadata": {},
   "outputs": [
    {
     "data": {
      "text/plain": [
       "987"
      ]
     },
     "execution_count": 20,
     "metadata": {},
     "output_type": "execute_result"
    }
   ],
   "source": [
    "p = -987\n",
    "n = 567\n",
    "abs(p)"
   ]
  },
  {
   "cell_type": "code",
   "execution_count": 21,
   "id": "bb919d9a",
   "metadata": {},
   "outputs": [
    {
     "data": {
      "text/plain": [
       "567"
      ]
     },
     "execution_count": 21,
     "metadata": {},
     "output_type": "execute_result"
    }
   ],
   "source": [
    "abs(n)"
   ]
  },
  {
   "cell_type": "code",
   "execution_count": 22,
   "id": "12719ecc",
   "metadata": {},
   "outputs": [
    {
     "data": {
      "text/plain": [
       "18"
      ]
     },
     "execution_count": 22,
     "metadata": {},
     "output_type": "execute_result"
    }
   ],
   "source": [
    "len(\"python Programming\")"
   ]
  },
  {
   "cell_type": "code",
   "execution_count": 3,
   "id": "26fe7c0c",
   "metadata": {},
   "outputs": [],
   "source": [
    "b = [1,2,3,4,5]"
   ]
  },
  {
   "cell_type": "code",
   "execution_count": 4,
   "id": "610c21e4",
   "metadata": {},
   "outputs": [
    {
     "data": {
      "text/plain": [
       "15"
      ]
     },
     "execution_count": 4,
     "metadata": {},
     "output_type": "execute_result"
    }
   ],
   "source": [
    "sum(b)"
   ]
  },
  {
   "cell_type": "code",
   "execution_count": 7,
   "id": "88e18774",
   "metadata": {},
   "outputs": [
    {
     "name": "stdout",
     "output_type": "stream",
     "text": [
      "u\n"
     ]
    }
   ],
   "source": [
    "s = \"Bhanu Prakash\"\n",
    "min(s)\n",
    "print(max(s))"
   ]
  },
  {
   "cell_type": "code",
   "execution_count": null,
   "id": "f39d3bf8",
   "metadata": {},
   "outputs": [],
   "source": [
    "# function syntax\n",
    "def functionName(arguments):\n",
    "    statements\n",
    "    statements\n",
    "functionName(arguments)"
   ]
  },
  {
   "cell_type": "code",
   "execution_count": 9,
   "id": "772e83b0",
   "metadata": {},
   "outputs": [
    {
     "name": "stdout",
     "output_type": "stream",
     "text": [
      "enter a messagepython\n",
      "from user:python\n"
     ]
    }
   ],
   "source": [
    "def message(m):\n",
    "    print(\"from user:\"+m)\n",
    "    \n",
    "m = input(\"enter a message\")\n",
    "message(m)"
   ]
  },
  {
   "cell_type": "code",
   "execution_count": 10,
   "id": "372f5b3d",
   "metadata": {},
   "outputs": [
    {
     "name": "stdout",
     "output_type": "stream",
     "text": [
      "enter a mesagepython\n",
      "from user:python\n"
     ]
    }
   ],
   "source": [
    "message(input(\"enter a mesage\"))"
   ]
  },
  {
   "cell_type": "code",
   "execution_count": 14,
   "id": "fd891c64",
   "metadata": {},
   "outputs": [
    {
     "name": "stdout",
     "output_type": "stream",
     "text": [
      "enter a value1\n",
      "enter b value9\n"
     ]
    },
    {
     "data": {
      "text/plain": [
       "2"
      ]
     },
     "execution_count": 14,
     "metadata": {},
     "output_type": "execute_result"
    }
   ],
   "source": [
    "def add(a,b):\n",
    "    return a+b\n",
    "    print(\"this statement doesnt print\")\n",
    "add(int(input(\"enter a value\")),int(input(\"enter b value\")))\n",
    "add(1,1)"
   ]
  },
  {
   "cell_type": "markdown",
   "id": "b217746e",
   "metadata": {},
   "source": [
    "def add(a,b):\n",
    "    c = a+b\n",
    "    print(c)\n",
    "    print(\"this will print\")\n",
    "    \n",
    "add(5,6)"
   ]
  },
  {
   "cell_type": "markdown",
   "id": "49dd4ee0",
   "metadata": {},
   "source": [
    "- Arguments types in Functions:\n",
    "  - Required arguments\n",
    "       - the number of arguments present in function call should exactly match with match function definition\n",
    "  - Keyword arguments\n",
    "      - when we use keyword arguments in a function call, the caller identifies the arguments by parameter name.\n",
    "        Python intrepeter is able to use the keywords provided to match the values with parameter.\n",
    "  - Default arguments\n",
    "       - A default argument is an argument that assumes a default value if a value is not provided or mentioned in the function          call for that arugument.\n",
    "   - Variable length arguments\n",
    "        - when we have a need to accept many values from the user for a argument then we use this varaiable length argument. An            astriek(*) is placed before the argument name that holds all the values and returns in tuple."
   ]
  },
  {
   "cell_type": "code",
   "execution_count": 16,
   "id": "a7e2fe5f",
   "metadata": {},
   "outputs": [
    {
     "name": "stdout",
     "output_type": "stream",
     "text": [
      "enter a value1\n",
      "enter b value2\n",
      "enter c value2\n",
      "4\n"
     ]
    }
   ],
   "source": [
    "# Required arguments\n",
    "def multiply(a,b,c):\n",
    "    print(a*b*c)\n",
    "\n",
    "multiply(int(input(\"enter a value\")),int(input(\"enter b value\")),int(input(\"enter c value\")))"
   ]
  },
  {
   "cell_type": "code",
   "execution_count": 17,
   "id": "7f06cb39",
   "metadata": {},
   "outputs": [
    {
     "name": "stdout",
     "output_type": "stream",
     "text": [
      "30\n"
     ]
    }
   ],
   "source": [
    "multiply(5,6,1)"
   ]
  },
  {
   "cell_type": "code",
   "execution_count": 18,
   "id": "e1791882",
   "metadata": {},
   "outputs": [
    {
     "name": "stdout",
     "output_type": "stream",
     "text": [
      "1\n",
      "python\n",
      "cse\n"
     ]
    }
   ],
   "source": [
    "# keyword Arguments\n",
    "def student(rollno, name, branch):\n",
    "    print(rollno)\n",
    "    print(name)\n",
    "    print(branch)\n",
    "\n",
    "student(1,\"python\",\"cse\")"
   ]
  },
  {
   "cell_type": "code",
   "execution_count": 19,
   "id": "9d14d143",
   "metadata": {},
   "outputs": [
    {
     "name": "stdout",
     "output_type": "stream",
     "text": [
      "123\n",
      "abcde\n",
      "cse\n"
     ]
    }
   ],
   "source": [
    "student(name=\"abcde\",branch=\"cse\",rollno=123)"
   ]
  },
  {
   "cell_type": "code",
   "execution_count": 22,
   "id": "e7283e61",
   "metadata": {},
   "outputs": [],
   "source": [
    "# Default Arguments\n",
    "def defaultArgs(h,a=12,b=\"string\", c=\"float\",d = 98.56):\n",
    "    print(a,b)\n",
    "    print(c,d)"
   ]
  },
  {
   "cell_type": "code",
   "execution_count": 23,
   "id": "43e5bb6f",
   "metadata": {},
   "outputs": [
    {
     "name": "stdout",
     "output_type": "stream",
     "text": [
      "12 string\n",
      "float 98.56\n"
     ]
    }
   ],
   "source": [
    "defaultArgs(4)"
   ]
  },
  {
   "cell_type": "code",
   "execution_count": 24,
   "id": "3d06931d",
   "metadata": {},
   "outputs": [
    {
     "name": "stdout",
     "output_type": "stream",
     "text": [
      "1 2\n",
      "float 98.56\n"
     ]
    }
   ],
   "source": [
    "defaultArgs(4,1,2)"
   ]
  },
  {
   "cell_type": "code",
   "execution_count": 25,
   "id": "bca0b5af",
   "metadata": {},
   "outputs": [
    {
     "name": "stdout",
     "output_type": "stream",
     "text": [
      "1 2\n",
      "3 4\n"
     ]
    }
   ],
   "source": [
    "defaultArgs(23,1,2,3,4)"
   ]
  },
  {
   "cell_type": "code",
   "execution_count": 26,
   "id": "31ee25ea",
   "metadata": {},
   "outputs": [
    {
     "name": "stdout",
     "output_type": "stream",
     "text": [
      "1 2\n",
      "(3, 34, 8, 6, 5, 4, 3, 'jik', 98.7, 5.7, 5678)\n"
     ]
    }
   ],
   "source": [
    "def varargs(a,b,*c):\n",
    "    print(a,b)\n",
    "    print(c)\n",
    "    \n",
    "    \n",
    "varargs(1,2,3,34,8,6,5,4,3,\"jik\",98.7,5.7,5678)"
   ]
  },
  {
   "cell_type": "code",
   "execution_count": null,
   "id": "193fabf7",
   "metadata": {},
   "outputs": [],
   "source": []
  }
 ],
 "metadata": {
  "kernelspec": {
   "display_name": "Python 3",
   "language": "python",
   "name": "python3"
  },
  "language_info": {
   "codemirror_mode": {
    "name": "ipython",
    "version": 3
   },
   "file_extension": ".py",
   "mimetype": "text/x-python",
   "name": "python",
   "nbconvert_exporter": "python",
   "pygments_lexer": "ipython3",
   "version": "3.8.8"
  }
 },
 "nbformat": 4,
 "nbformat_minor": 5
}
