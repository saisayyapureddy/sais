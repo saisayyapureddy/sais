{
 "cells": [
  {
   "cell_type": "markdown",
   "id": "0ac07040",
   "metadata": {},
   "source": [
    "Literate Programming:\n",
    "-------------------------------\n",
    "- Combination of coding and documentation. Literate Programming was introduced by Donald Knuth in which a program is given as explanation of the program logic in a natural language such as English along with some snippets of macros and traditional source code."
   ]
  },
  {
   "cell_type": "markdown",
   "id": "f8959a21",
   "metadata": {},
   "source": [
    "Python\n",
    "----------\n",
    "- Python was invented by Guido Van Rossum in 1989, and relased the python in 1991\n",
    "- Python is an interpreted, high-level, general purpose programming language\n",
    "- Platforms to run Python\n",
    "- IDLE, PyCharm, Anaconda, PyScripter etc"
   ]
  },
  {
   "cell_type": "markdown",
   "id": "dae4c2d9",
   "metadata": {},
   "source": [
    "Anaconda\n",
    "--------------\n",
    "- Anaconda is a platform which provides various applications to run various programming languages, in that we are using jupyter Notebook to run python.\n",
    "\n",
    "Why we should use Anaconda\n",
    "-------------------------------------------\n",
    "- Anaconda contains popular python libraries which are used for Data Science and Machine Learning."
   ]
  },
  {
   "cell_type": "markdown",
   "id": "1a95bf7b",
   "metadata": {},
   "source": [
    "Shortcuts\n",
    "----------\n",
    "- M: Markdown\n",
    "- Y: code\n",
    "- space: to scroll down\n",
    "- shift+space : to scroll up\n",
    "- shift+enter : to run the cell\n",
    "- A: to insert a cell above\n",
    "- B: to insert a cell below"
   ]
  },
  {
   "cell_type": "markdown",
   "id": "a31bec9c",
   "metadata": {},
   "source": [
    "Markdown syntax\n",
    "-------------\n",
    "Heading\n",
    "Heading1\n",
    "Heading2\n",
    "Heading3\n",
    "Heading4\n",
    "Heading5\n",
    "Heading6\n",
    "text line1\n",
    "text line2\n",
    "text line3\n",
    "bold text\n",
    "Italic text\n",
    "Bold and Italic\n",
    "text\n",
    "\n",
    "text sublist\n",
    "textlist1\n",
    "textlist2\n",
    "unordered list\n",
    "\n",
    "list1\n",
    "list2\n",
    "list3\n",
    "text\n",
    "ordered list"
   ]
  },
  {
   "cell_type": "code",
   "execution_count": null,
   "id": "0947473d",
   "metadata": {},
   "outputs": [],
   "source": []
  }
 ],
 "metadata": {
  "kernelspec": {
   "display_name": "Python 3",
   "language": "python",
   "name": "python3"
  },
  "language_info": {
   "codemirror_mode": {
    "name": "ipython",
    "version": 3
   },
   "file_extension": ".py",
   "mimetype": "text/x-python",
   "name": "python",
   "nbconvert_exporter": "python",
   "pygments_lexer": "ipython3",
   "version": "3.8.8"
  }
 },
 "nbformat": 4,
 "nbformat_minor": 5
}
