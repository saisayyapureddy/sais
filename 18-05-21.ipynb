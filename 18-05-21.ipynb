{
 "cells": [
  {
   "cell_type": "code",
   "execution_count": 1,
   "id": "cd65ff09",
   "metadata": {},
   "outputs": [
    {
     "name": "stdout",
     "output_type": "stream",
     "text": [
      "welcome to python programming\n"
     ]
    }
   ],
   "source": [
    "# print statement to display a message\n",
    "print(\"welcome to python programming\")"
   ]
  },
  {
   "cell_type": "code",
   "execution_count": 2,
   "id": "946ddcd2",
   "metadata": {},
   "outputs": [
    {
     "data": {
      "text/plain": [
       "'Multi line comments'"
      ]
     },
     "execution_count": 2,
     "metadata": {},
     "output_type": "execute_result"
    }
   ],
   "source": [
    "# Comments\n",
    "# Single line comments\n",
    "\"\"\"Multi line comments\"\"\""
   ]
  },
  {
   "cell_type": "markdown",
   "id": "6a584f5d",
   "metadata": {},
   "source": [
    "Variable \n",
    "----------\n",
    "- Variables are used to store the data/Value"
   ]
  },
  {
   "cell_type": "code",
   "execution_count": 3,
   "id": "8b89c82d",
   "metadata": {},
   "outputs": [
    {
     "name": "stdout",
     "output_type": "stream",
     "text": [
      "1 2 3\n",
      "20\n",
      "10\n"
     ]
    }
   ],
   "source": [
    "n1 = 10                  # Single Variable assignment\n",
    "a = b = c = 20           # Multiple variable assignment\n",
    "x,y,z = 1,2,3            # Multiple variable assignment with values\n",
    "print(x,y,z)\n",
    "print(a)\n",
    "print(n1)"
   ]
  },
  {
   "cell_type": "code",
   "execution_count": 4,
   "id": "ef0aeda0",
   "metadata": {},
   "outputs": [
    {
     "data": {
      "text/plain": [
       "123"
      ]
     },
     "execution_count": 4,
     "metadata": {},
     "output_type": "execute_result"
    }
   ],
   "source": [
    "i = 123\n",
    "i"
   ]
  },
  {
   "cell_type": "code",
   "execution_count": 5,
   "id": "d4a972c4",
   "metadata": {},
   "outputs": [
    {
     "name": "stdout",
     "output_type": "stream",
     "text": [
      "Python\n",
      "45.67\n",
      "800\n"
     ]
    }
   ],
   "source": [
    "s1 = \"Python\"\n",
    "f = 45.67\n",
    "n = 800\n",
    "\n",
    "print(s1)\n",
    "print(f)\n",
    "print(n)"
   ]
  },
  {
   "cell_type": "code",
   "execution_count": 6,
   "id": "c429ad40",
   "metadata": {},
   "outputs": [
    {
     "name": "stdout",
     "output_type": "stream",
     "text": [
      "Python 45.67 800\n"
     ]
    }
   ],
   "source": [
    "print(s1,f,n)"
   ]
  },
  {
   "cell_type": "code",
   "execution_count": 7,
   "id": "8e8d1824",
   "metadata": {},
   "outputs": [
    {
     "name": "stdout",
     "output_type": "stream",
     "text": [
      "two strings are string1andstring2\n"
     ]
    }
   ],
   "source": [
    "s1 = \"string1\"\n",
    "s2 = \"string2\"\n",
    "print(\"two strings are \"+s1+ \"and\"+s2)"
   ]
  },
  {
   "cell_type": "code",
   "execution_count": 8,
   "id": "3683a1a8",
   "metadata": {},
   "outputs": [
    {
     "name": "stdout",
     "output_type": "stream",
     "text": [
      "first integer value as 56 and second integer value 89\n"
     ]
    }
   ],
   "source": [
    "n1 = 56\n",
    "n2 = 89\n",
    "print(\"first integer value as\",n1,\"and second integer value\",n2)"
   ]
  },
  {
   "cell_type": "code",
   "execution_count": 9,
   "id": "8bc9c17c",
   "metadata": {},
   "outputs": [
    {
     "name": "stdout",
     "output_type": "stream",
     "text": [
      "enter a value100\n",
      "<class 'int'>\n",
      "100\n"
     ]
    }
   ],
   "source": [
    "n = int(input(\"enter a value\"))\n",
    "print(type(n))\n",
    "print(n)"
   ]
  },
  {
   "cell_type": "code",
   "execution_count": 10,
   "id": "082e3609",
   "metadata": {},
   "outputs": [
    {
     "name": "stdout",
     "output_type": "stream",
     "text": [
      "enter a value100\n"
     ]
    },
    {
     "data": {
      "text/plain": [
       "100.0"
      ]
     },
     "execution_count": 10,
     "metadata": {},
     "output_type": "execute_result"
    }
   ],
   "source": [
    "f = float(input(\"enter a value\"))\n",
    "f"
   ]
  },
  {
   "cell_type": "code",
   "execution_count": 11,
   "id": "e114d575",
   "metadata": {},
   "outputs": [
    {
     "name": "stdout",
     "output_type": "stream",
     "text": [
      "saimanasa\n"
     ]
    },
    {
     "data": {
      "text/plain": [
       "'saimanasa'"
      ]
     },
     "execution_count": 11,
     "metadata": {},
     "output_type": "execute_result"
    }
   ],
   "source": [
    "s = input()\n",
    "s"
   ]
  },
  {
   "cell_type": "markdown",
   "id": "05060921",
   "metadata": {},
   "source": [
    "Operators\n",
    "--------------\n",
    "- Arithmetic Operators\n",
    "    - +,-,*,/,%,//,**\n",
    "- Assignment Operators\n",
    "    - +=,-=,*=,/=,%=,//=,**=,=\n",
    "- Logical Operators\n",
    "    - and, or, not\n",
    "- Bitwise Operators\n",
    "    - &,|,^,~,>>,<<\n",
    "- Comparision Operators\n",
    "    - <,>,<=,>=,==,===,!=\n",
    "- Identity Operators\n",
    "   - is, is not\n",
    "- Membership operators\n",
    "   - in, not in"
   ]
  },
  {
   "cell_type": "code",
   "execution_count": 12,
   "id": "38cb7d2d",
   "metadata": {},
   "outputs": [
    {
     "data": {
      "text/plain": [
       "2"
      ]
     },
     "execution_count": 12,
     "metadata": {},
     "output_type": "execute_result"
    }
   ],
   "source": [
    "a = 5\n",
    "b = 2\n",
    "a//b  # integer division"
   ]
  },
  {
   "cell_type": "code",
   "execution_count": 13,
   "id": "beca0a61",
   "metadata": {},
   "outputs": [
    {
     "data": {
      "text/plain": [
       "25"
      ]
     },
     "execution_count": 13,
     "metadata": {},
     "output_type": "execute_result"
    }
   ],
   "source": [
    "a**b # a power b-- a ^ b"
   ]
  },
  {
   "cell_type": "code",
   "execution_count": 14,
   "id": "6181b54f",
   "metadata": {},
   "outputs": [
    {
     "data": {
      "text/plain": [
       "1"
      ]
     },
     "execution_count": 14,
     "metadata": {},
     "output_type": "execute_result"
    }
   ],
   "source": [
    "a%b"
   ]
  },
  {
   "cell_type": "code",
   "execution_count": 15,
   "id": "aae2036f",
   "metadata": {},
   "outputs": [
    {
     "name": "stdout",
     "output_type": "stream",
     "text": [
      "addition 7\n",
      "3\n",
      "10\n",
      "2.5\n",
      "mod divison 1\n",
      "2\n",
      "25\n"
     ]
    }
   ],
   "source": [
    "print(\"addition\",a+b)\n",
    "print(a-b)\n",
    "print(a*b)\n",
    "print(a/b)\n",
    "print(\"mod divison\",a%b)\n",
    "print(a//b)\n",
    "print(a**b)"
   ]
  },
  {
   "cell_type": "code",
   "execution_count": 16,
   "id": "c14a87ab",
   "metadata": {},
   "outputs": [
    {
     "name": "stdout",
     "output_type": "stream",
     "text": [
      "24\n"
     ]
    }
   ],
   "source": [
    "h = 20\n",
    "h += 4   # h = h+4\n",
    "print(h)"
   ]
  },
  {
   "cell_type": "code",
   "execution_count": 17,
   "id": "640a1117",
   "metadata": {},
   "outputs": [
    {
     "data": {
      "text/plain": [
       "True"
      ]
     },
     "execution_count": 17,
     "metadata": {},
     "output_type": "execute_result"
    }
   ],
   "source": [
    "3 < 5 and 7 < 10"
   ]
  },
  {
   "cell_type": "code",
   "execution_count": 18,
   "id": "fa74f3aa",
   "metadata": {},
   "outputs": [
    {
     "data": {
      "text/plain": [
       "False"
      ]
     },
     "execution_count": 18,
     "metadata": {},
     "output_type": "execute_result"
    }
   ],
   "source": [
    "6 < 5 and 11 < 10"
   ]
  },
  {
   "cell_type": "code",
   "execution_count": 19,
   "id": "f0096218",
   "metadata": {},
   "outputs": [
    {
     "data": {
      "text/plain": [
       "False"
      ]
     },
     "execution_count": 19,
     "metadata": {},
     "output_type": "execute_result"
    }
   ],
   "source": [
    "not (4 <= 5 or 7 ==8)"
   ]
  },
  {
   "cell_type": "code",
   "execution_count": 20,
   "id": "4475928a",
   "metadata": {},
   "outputs": [
    {
     "data": {
      "text/plain": [
       "1"
      ]
     },
     "execution_count": 20,
     "metadata": {},
     "output_type": "execute_result"
    }
   ],
   "source": [
    "n1 = 3  # 0011\n",
    "n2 = 5  # 0101\n",
    "n1 & n2 # 0001"
   ]
  },
  {
   "cell_type": "code",
   "execution_count": 21,
   "id": "174e90e9",
   "metadata": {},
   "outputs": [
    {
     "data": {
      "text/plain": [
       "7"
      ]
     },
     "execution_count": 21,
     "metadata": {},
     "output_type": "execute_result"
    }
   ],
   "source": [
    "n1 | n2 # 0111"
   ]
  },
  {
   "cell_type": "code",
   "execution_count": 22,
   "id": "ff5697f7",
   "metadata": {},
   "outputs": [
    {
     "data": {
      "text/plain": [
       "6"
      ]
     },
     "execution_count": 22,
     "metadata": {},
     "output_type": "execute_result"
    }
   ],
   "source": [
    "n1 ^ n2 # 0110"
   ]
  },
  {
   "cell_type": "code",
   "execution_count": 23,
   "id": "66a07539",
   "metadata": {},
   "outputs": [
    {
     "data": {
      "text/plain": [
       "-4"
      ]
     },
     "execution_count": 23,
     "metadata": {},
     "output_type": "execute_result"
    }
   ],
   "source": [
    "~n1   #(-(n1+1))"
   ]
  },
  {
   "cell_type": "code",
   "execution_count": 24,
   "id": "445e6b09",
   "metadata": {},
   "outputs": [
    {
     "data": {
      "text/plain": [
       "64"
      ]
     },
     "execution_count": 24,
     "metadata": {},
     "output_type": "execute_result"
    }
   ],
   "source": [
    "a = 2\n",
    "b = 5 \n",
    "a<<b # 2<<5 --> 0010<<5--> 100 0000"
   ]
  },
  {
   "cell_type": "code",
   "execution_count": 25,
   "id": "c4f8297e",
   "metadata": {},
   "outputs": [
    {
     "data": {
      "text/plain": [
       "40"
      ]
     },
     "execution_count": 25,
     "metadata": {},
     "output_type": "execute_result"
    }
   ],
   "source": [
    "10 << 2 # 1010<<2 --> 101000"
   ]
  },
  {
   "cell_type": "code",
   "execution_count": 26,
   "id": "ddd23048",
   "metadata": {},
   "outputs": [
    {
     "name": "stderr",
     "output_type": "stream",
     "text": [
      "<>:2: SyntaxWarning: \"is\" with a literal. Did you mean \"==\"?\n",
      "<>:2: SyntaxWarning: \"is\" with a literal. Did you mean \"==\"?\n",
      "<ipython-input-26-25991c80b7ab>:2: SyntaxWarning: \"is\" with a literal. Did you mean \"==\"?\n",
      "  a is 2\n"
     ]
    },
    {
     "data": {
      "text/plain": [
       "True"
      ]
     },
     "execution_count": 26,
     "metadata": {},
     "output_type": "execute_result"
    }
   ],
   "source": [
    "a = 2\n",
    "a is 2"
   ]
  },
  {
   "cell_type": "code",
   "execution_count": 27,
   "id": "00cda23f",
   "metadata": {},
   "outputs": [
    {
     "name": "stderr",
     "output_type": "stream",
     "text": [
      "<>:1: SyntaxWarning: \"is not\" with a literal. Did you mean \"!=\"?\n",
      "<>:1: SyntaxWarning: \"is not\" with a literal. Did you mean \"!=\"?\n",
      "<ipython-input-27-ceb0796d34a2>:1: SyntaxWarning: \"is not\" with a literal. Did you mean \"!=\"?\n",
      "  a is not 5\n"
     ]
    },
    {
     "data": {
      "text/plain": [
       "True"
      ]
     },
     "execution_count": 27,
     "metadata": {},
     "output_type": "execute_result"
    }
   ],
   "source": [
    "a is not 5"
   ]
  },
  {
   "cell_type": "code",
   "execution_count": 28,
   "id": "0de0fe98",
   "metadata": {},
   "outputs": [
    {
     "name": "stderr",
     "output_type": "stream",
     "text": [
      "<>:1: SyntaxWarning: \"is not\" with a literal. Did you mean \"!=\"?\n",
      "<>:1: SyntaxWarning: \"is not\" with a literal. Did you mean \"!=\"?\n",
      "<ipython-input-28-179784207a65>:1: SyntaxWarning: \"is not\" with a literal. Did you mean \"!=\"?\n",
      "  a is not 2\n"
     ]
    },
    {
     "data": {
      "text/plain": [
       "False"
      ]
     },
     "execution_count": 28,
     "metadata": {},
     "output_type": "execute_result"
    }
   ],
   "source": [
    "a is not 2"
   ]
  },
  {
   "cell_type": "code",
   "execution_count": 29,
   "id": "aad8a526",
   "metadata": {},
   "outputs": [
    {
     "name": "stdout",
     "output_type": "stream",
     "text": [
      "False\n",
      "True\n",
      "True\n"
     ]
    }
   ],
   "source": [
    "x = 8\n",
    "y = 9\n",
    "z = 8\n",
    "print(x is y)\n",
    "print(x is z)\n",
    "print( y is not z)"
   ]
  },
  {
   "cell_type": "code",
   "execution_count": 30,
   "id": "2e7d8676",
   "metadata": {},
   "outputs": [
    {
     "data": {
      "text/plain": [
       "True"
      ]
     },
     "execution_count": 30,
     "metadata": {},
     "output_type": "execute_result"
    }
   ],
   "source": [
    "k = [1,2,3,4]\n",
    "4 in k"
   ]
  },
  {
   "cell_type": "code",
   "execution_count": 31,
   "id": "8b146ce6",
   "metadata": {},
   "outputs": [
    {
     "data": {
      "text/plain": [
       "False"
      ]
     },
     "execution_count": 31,
     "metadata": {},
     "output_type": "execute_result"
    }
   ],
   "source": [
    "10 in k"
   ]
  },
  {
   "cell_type": "code",
   "execution_count": 32,
   "id": "80b2442f",
   "metadata": {},
   "outputs": [
    {
     "data": {
      "text/plain": [
       "False"
      ]
     },
     "execution_count": 32,
     "metadata": {},
     "output_type": "execute_result"
    }
   ],
   "source": [
    "a = 20\n",
    "b = \"20\"\n",
    "a == b"
   ]
  },
  {
   "cell_type": "code",
   "execution_count": null,
   "id": "99570c03",
   "metadata": {},
   "outputs": [],
   "source": []
  }
 ],
 "metadata": {
  "kernelspec": {
   "display_name": "Python 3",
   "language": "python",
   "name": "python3"
  },
  "language_info": {
   "codemirror_mode": {
    "name": "ipython",
    "version": 3
   },
   "file_extension": ".py",
   "mimetype": "text/x-python",
   "name": "python",
   "nbconvert_exporter": "python",
   "pygments_lexer": "ipython3",
   "version": "3.8.8"
  }
 },
 "nbformat": 4,
 "nbformat_minor": 5
}
