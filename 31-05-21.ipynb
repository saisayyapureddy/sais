{
 "cells": [
  {
   "cell_type": "code",
   "execution_count": null,
   "id": "1fb8e508",
   "metadata": {},
   "outputs": [],
   "source": [
    "- object oriented programming\n",
    "   - objects\n",
    "   - class\n",
    "   - constructor\n",
    "    - inheritence\n",
    "- packages and modules using oops"
   ]
  },
  {
   "cell_type": "markdown",
   "id": "598c7708",
   "metadata": {},
   "source": [
    "- in python everything will be treated as an object\n",
    "- Mainly used for code reusability\n",
    "- better security"
   ]
  },
  {
   "cell_type": "markdown",
   "id": "ed0d2527",
   "metadata": {},
   "source": [
    "- class\n",
    "   - collction of variables(properties) and methods(behaviour)\n",
    "       - variables(storing data)\n",
    "       - method\n",
    "         - define a function inside a collection\n",
    "    - collection of object\n",
    "    - syntax\n",
    "         - class classname:\n",
    "         \n",
    "         \n",
    "         \n",
    "         \n",
    "         "
   ]
  },
  {
   "cell_type": "code",
   "execution_count": 2,
   "id": "a2ee3939",
   "metadata": {},
   "outputs": [
    {
     "name": "stdout",
     "output_type": "stream",
     "text": [
      "<class '__main__.Info'>\n",
      "Ambika 12\n",
      "Ambika python\n"
     ]
    }
   ],
   "source": [
    "# another exmp\n",
    "class Info:\n",
    "    '''Information'''\n",
    "    def myinfo(name,num):\n",
    "        return name + ' '+str(num)\n",
    "    def empinfo(name,team):\n",
    "        return name + ' '+ team\n",
    "print(Info)\n",
    "print(Info.myinfo('Ambika',12))\n",
    "print(Info.empinfo('Ambika','python'))"
   ]
  },
  {
   "cell_type": "code",
   "execution_count": 3,
   "id": "bed18a33",
   "metadata": {},
   "outputs": [
    {
     "name": "stdout",
     "output_type": "stream",
     "text": [
      "['__class__', '__delattr__', '__dict__', '__dir__', '__doc__', '__eq__', '__format__', '__ge__', '__getattribute__', '__gt__', '__hash__', '__init__', '__init_subclass__', '__le__', '__lt__', '__module__', '__ne__', '__new__', '__reduce__', '__reduce_ex__', '__repr__', '__setattr__', '__sizeof__', '__str__', '__subclasshook__', '__weakref__', 'empinfo', 'myinfo'] "
     ]
    }
   ],
   "source": [
    "print(dir(info),end=' ')"
   ]
  },
  {
   "cell_type": "code",
   "execution_count": 4,
   "id": "60054625",
   "metadata": {},
   "outputs": [
    {
     "name": "stdout",
     "output_type": "stream",
     "text": [
      "<class '__main__._Exmp'>\n",
      "hello\n",
      "from hello.. function\n"
     ]
    },
    {
     "ename": "NameError",
     "evalue": "name 'Exmp' is not defined",
     "output_type": "error",
     "traceback": [
      "\u001b[1;31m---------------------------------------------------------------------------\u001b[0m",
      "\u001b[1;31mNameError\u001b[0m                                 Traceback (most recent call last)",
      "\u001b[1;32m<ipython-input-4-e92b12868a08>\u001b[0m in \u001b[0;36m<module>\u001b[1;34m\u001b[0m\n\u001b[0;32m      7\u001b[0m \u001b[0mprint\u001b[0m\u001b[1;33m(\u001b[0m\u001b[0m_Exmp\u001b[0m\u001b[1;33m.\u001b[0m\u001b[0ma\u001b[0m\u001b[1;33m)\u001b[0m\u001b[1;33m\u001b[0m\u001b[1;33m\u001b[0m\u001b[0m\n\u001b[0;32m      8\u001b[0m \u001b[0mprint\u001b[0m\u001b[1;33m(\u001b[0m\u001b[0m_Exmp\u001b[0m\u001b[1;33m.\u001b[0m\u001b[0mhello\u001b[0m\u001b[1;33m(\u001b[0m\u001b[1;33m)\u001b[0m\u001b[1;33m)\u001b[0m\u001b[1;33m\u001b[0m\u001b[1;33m\u001b[0m\u001b[0m\n\u001b[1;32m----> 9\u001b[1;33m \u001b[0mprint\u001b[0m\u001b[1;33m(\u001b[0m\u001b[0mExmp\u001b[0m\u001b[1;33m.\u001b[0m\u001b[0mdoc_\u001b[0m\u001b[1;33m)\u001b[0m\u001b[1;33m\u001b[0m\u001b[1;33m\u001b[0m\u001b[0m\n\u001b[0m",
      "\u001b[1;31mNameError\u001b[0m: name 'Exmp' is not defined"
     ]
    }
   ],
   "source": [
    "class _Exmp:\n",
    "    '''For Basic example purpose'''\n",
    "    a = 'hello'\n",
    "    def hello():\n",
    "        return 'from hello.. function'\n",
    "print(_Exmp)\n",
    "print(_Exmp.a)\n",
    "print(_Exmp.hello())\n",
    "print(Exmp.doc_)"
   ]
  },
  {
   "cell_type": "code",
   "execution_count": null,
   "id": "20aad762",
   "metadata": {},
   "outputs": [],
   "source": [
    "- object\n",
    "       - instance of class\n",
    "       - real time entity\n",
    "        - used to acces elements in class\n",
    "    - syntax\n",
    "       - objectname(variable) = classname"
   ]
  },
  {
   "cell_type": "code",
   "execution_count": 8,
   "id": "4698e61f",
   "metadata": {},
   "outputs": [
    {
     "name": "stdout",
     "output_type": "stream",
     "text": [
      "<__main__.Hii object at 0x0000020D8FC1D100>\n"
     ]
    }
   ],
   "source": [
    "# basic example\n",
    "class Hii:\n",
    "    pass\n",
    "obj = Hii()\n",
    "print(obj)"
   ]
  },
  {
   "cell_type": "code",
   "execution_count": 9,
   "id": "51d722db",
   "metadata": {},
   "outputs": [
    {
     "name": "stdout",
     "output_type": "stream",
     "text": [
      "<class '__main__.Exmp1'>\n",
      "oops 123\n",
      "from details function...\n",
      "None\n",
      "doc string None\n"
     ]
    }
   ],
   "source": [
    "class Exmp1:\n",
    "    name = 'oops'\n",
    "    num = 123\n",
    "    def details():\n",
    "        print('from details function...')\n",
    "ab = Exmp1\n",
    "print(ab)\n",
    "print(ab.name,ab.num)\n",
    "print(ab.details())\n",
    "print('doc string',ab.__doc__)"
   ]
  },
  {
   "cell_type": "markdown",
   "id": "cbe3f8cb",
   "metadata": {},
   "source": [
    "- Constructor\n",
    "  - To Assign values to members of class when an objct is created\n",
    "   - constructor method(init())\n",
    "- syntax\n",
    "-   def init(self): statements\n",
    "    - self parameter\n",
    "    - Its a keyword used to access attributes and methods of class\n",
    "     - used for variable initialization\n",
    "     - two types\n",
    "      - Non parameterized(only self as an argument)\n",
    "       - parameterized(multiple parameters along with self)\n",
    "- def init(self,name,num)\n",
    "- def init(name,num,self)\n",
    "- def init(abc,num)"
   ]
  },
  {
   "cell_type": "code",
   "execution_count": 1,
   "id": "98f93a6b",
   "metadata": {},
   "outputs": [
    {
     "name": "stdout",
     "output_type": "stream",
     "text": [
      "Iam having only self....\n",
      "Welcome..  Ambika\n"
     ]
    }
   ],
   "source": [
    "# Non parameterized\n",
    "class NonParaCons:\n",
    "    def __init__(self):\n",
    "        print ('Iam having only self....')\n",
    "    def display(self,name):\n",
    "        print('Welcome.. ',name)\n",
    "npc = NonParaCons()\n",
    "npc.display('Ambika')"
   ]
  },
  {
   "cell_type": "code",
   "execution_count": 2,
   "id": "6a972033",
   "metadata": {},
   "outputs": [
    {
     "name": "stdout",
     "output_type": "stream",
     "text": [
      "constructor \n",
      "destructor\n",
      "None\n"
     ]
    }
   ],
   "source": [
    "class A:\n",
    "    def __init__(self):\n",
    "        print(\"constructor \")\n",
    "    def de(self):\n",
    "        print(\"destructor\")\n",
    "oa=A()\n",
    "print(oa.de())"
   ]
  },
  {
   "cell_type": "code",
   "execution_count": 3,
   "id": "b93b70a0",
   "metadata": {},
   "outputs": [
    {
     "name": "stdout",
     "output_type": "stream",
     "text": [
      "14\n"
     ]
    }
   ],
   "source": [
    "class ParaConsExp:\n",
    "    def __init__(abc,n1,n2):\n",
    "        abc.n1 = n1\n",
    "        abc.n2 = n2\n",
    "    def add(abc):\n",
    "        return abc.n1 + abc.n2\n",
    "    def sub(abc):\n",
    "        return abc.n1 - abc.n2\n",
    "pc = ParaConsExp(6,8)\n",
    "print(pc.add())"
   ]
  },
  {
   "cell_type": "code",
   "execution_count": 4,
   "id": "c0dc721d",
   "metadata": {},
   "outputs": [
    {
     "name": "stdout",
     "output_type": "stream",
     "text": [
      "14\n"
     ]
    }
   ],
   "source": [
    "class ParaConsExp:\n",
    "    def __init__(abc,n1,n2):\n",
    "        abc.n1 = n1\n",
    "        abc.n2 = n2\n",
    "    def add(abc):\n",
    "        return abc.n1 + abc.n2\n",
    "    def sub(abc):\n",
    "        return abc.n1 - abc.n2\n",
    "pc = ParaConsExp(6,8)\n",
    "print(pc.add())"
   ]
  },
  {
   "cell_type": "code",
   "execution_count": null,
   "id": "59ac8154",
   "metadata": {},
   "outputs": [],
   "source": [
    "# n1,n2\n",
    "# self.n1 = n1\n",
    "# self.a = n1\n",
    "# self.b = n2"
   ]
  },
  {
   "cell_type": "code",
   "execution_count": 3,
   "id": "5cc0a5a1",
   "metadata": {},
   "outputs": [
    {
     "name": "stdout",
     "output_type": "stream",
     "text": [
      "10\n",
      "20\n",
      "None\n",
      "60\n"
     ]
    }
   ],
   "source": [
    "class Math:\n",
    "    def __init__(abc,val1,val2):\n",
    "        abc.num1 = val1\n",
    "        abc.num2 = val2\n",
    "    def show(abc):\n",
    "        print(abc.num1)\n",
    "        print(abc.num2)\n",
    "    def add(abc,num3):\n",
    "        return abc.num1 + abc.num2 +num3\n",
    "m = Math(10,20)\n",
    "print(m.show())\n",
    "print(m.add(30))"
   ]
  },
  {
   "cell_type": "code",
   "execution_count": 4,
   "id": "5234ea29",
   "metadata": {},
   "outputs": [
    {
     "name": "stdout",
     "output_type": "stream",
     "text": [
      "second Constructor...\n",
      "<__main__.MoreCons object at 0x000001D854C41400>\n"
     ]
    }
   ],
   "source": [
    "# Morethan one constructor\n",
    "class MoreCons:\n",
    "    def __init__(self):\n",
    "        print('First constructor...')\n",
    "    def __init__(self):\n",
    "        print('second Constructor...')\n",
    "mc = MoreCons()\n",
    "print(mc)"
   ]
  },
  {
   "cell_type": "markdown",
   "id": "ef6a9487",
   "metadata": {},
   "source": [
    "- Inheritance\n",
    " - Acquiring properties from parent[Base class] to child[derived class]\n",
    " - Types\n",
    "    - Single level\n",
    "       - Single parent and single child\n",
    "    - Multi level\n",
    "        - Single child two parents(parent => parent)\n",
    "    - Multiple level\n",
    "         - Single child two parents(parent to parent no relation)\n",
    "     - Hybrid\n",
    "        - All combination\n",
    "      - hierarchial¶"
   ]
  },
  {
   "cell_type": "code",
   "execution_count": 5,
   "id": "f3eff4b6",
   "metadata": {},
   "outputs": [
    {
     "name": "stdout",
     "output_type": "stream",
     "text": [
      "1\n",
      "Hii Iam from Child class\n",
      "12\n",
      "Hii Iam from Parent Class\n"
     ]
    }
   ],
   "source": [
    "# single level \n",
    "class ParentClass():\n",
    "    a,b = 12,11\n",
    "    def display():\n",
    "        return 'Hii Iam from Parent Class'\n",
    "class ChildClass(ParentClass):\n",
    "    c,d = 1,0\n",
    "    def show():\n",
    "        return 'Hii Iam from Child class'\n",
    "obj = ChildClass\n",
    "print(obj.c)\n",
    "print(obj.show())\n",
    "print(obj.a)\n",
    "print(obj.display())"
   ]
  },
  {
   "cell_type": "code",
   "execution_count": 6,
   "id": "097a18c5",
   "metadata": {},
   "outputs": [
    {
     "name": "stdout",
     "output_type": "stream",
     "text": [
      "show3\n",
      "show4\n",
      "show 1\n",
      "show2\n"
     ]
    }
   ],
   "source": [
    "class A():\n",
    "    def show1():\n",
    "        print (\"show 1\")\n",
    "    def show2():\n",
    "        print(\"show2\")\n",
    "class B(A):\n",
    "    def show3():\n",
    "        print(\"show3\")\n",
    "    def show4():\n",
    "        print(\"show4\")\n",
    "ob=B\n",
    "ob.show3()\n",
    "ob.show4()\n",
    "ob.show1()\n",
    "ob.show2()"
   ]
  },
  {
   "cell_type": "code",
   "execution_count": 7,
   "id": "9246b3ef",
   "metadata": {},
   "outputs": [
    {
     "name": "stdout",
     "output_type": "stream",
     "text": [
      "Iam from class c\n",
      "Iam from class B\n",
      "Iam from class A\n"
     ]
    }
   ],
   "source": [
    "# Multi level\n",
    "class A:\n",
    "    def classA():\n",
    "        print('Iam from class A')\n",
    "class B(A):\n",
    "    def classB():\n",
    "        print('Iam from class B')\n",
    "class C(B):\n",
    "    def classC():\n",
    "        print('Iam from class c')\n",
    "obj = C\n",
    "obj.classC()\n",
    "obj.classB()\n",
    "obj.classA()"
   ]
  },
  {
   "cell_type": "code",
   "execution_count": 8,
   "id": "8d32dfc8",
   "metadata": {},
   "outputs": [
    {
     "name": "stdout",
     "output_type": "stream",
     "text": [
      "Iam from class c\n",
      "Iam from class B\n",
      "Iam from class A\n"
     ]
    }
   ],
   "source": [
    "# Multiple\n",
    "class A:\n",
    "    def classA():\n",
    "        print('Iam from class A')\n",
    "class B:\n",
    "    def classB():\n",
    "        print('Iam from class B')\n",
    "class C(A,B):\n",
    "    def classC():\n",
    "        print('Iam from class c')\n",
    "obj = C\n",
    "obj.classC()\n",
    "obj.classB()\n",
    "obj.classA()"
   ]
  },
  {
   "cell_type": "code",
   "execution_count": null,
   "id": "1d8b4d23",
   "metadata": {},
   "outputs": [],
   "source": []
  }
 ],
 "metadata": {
  "kernelspec": {
   "display_name": "Python 3",
   "language": "python",
   "name": "python3"
  },
  "language_info": {
   "codemirror_mode": {
    "name": "ipython",
    "version": 3
   },
   "file_extension": ".py",
   "mimetype": "text/x-python",
   "name": "python",
   "nbconvert_exporter": "python",
   "pygments_lexer": "ipython3",
   "version": "3.8.8"
  }
 },
 "nbformat": 4,
 "nbformat_minor": 5
}
