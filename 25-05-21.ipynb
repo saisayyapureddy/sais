{
 "cells": [
  {
   "cell_type": "code",
   "execution_count": 2,
   "id": "082885b3",
   "metadata": {},
   "outputs": [
    {
     "name": "stdout",
     "output_type": "stream",
     "text": [
      "1. add 2. sub 3. div 4.mul 5. mod division 6. floor division 7. power\n",
      "enter the operation to be performed3\n",
      "enter a value6\n",
      "enter b value3\n",
      "out of choice\n"
     ]
    }
   ],
   "source": [
    "print(\"1. add 2. sub 3. div 4.mul 5. mod division 6. floor division 7. power\")\n",
    "ch =int(input(\"enter the operation to be performed\"))\n",
    "a = int(input(\"enter a value\"))\n",
    "b = int(input(\"enter b value\"))\n",
    "\n",
    "\n",
    "def div(a,b):\n",
    "    returna/b\n",
    "def mul(a,b):\n",
    "    print(a*b)\n",
    "    \n",
    "if ch ==1:\n",
    "    div(a,b)\n",
    "elif ch==2:\n",
    "    mul(a,b)\n",
    "else:\n",
    "    print(\"out of choice\")\n",
    "    \n",
    "def div(a,b):\n",
    "    returna/b\n",
    "def mul(a,b):\n",
    "    print(a*b)\n"
   ]
  },
  {
   "cell_type": "code",
   "execution_count": 2,
   "id": "b5d02100",
   "metadata": {},
   "outputs": [
    {
     "name": "stdout",
     "output_type": "stream",
     "text": [
      "enter n value5\n"
     ]
    },
    {
     "data": {
      "text/plain": [
       "120"
      ]
     },
     "execution_count": 2,
     "metadata": {},
     "output_type": "execute_result"
    }
   ],
   "source": [
    "def fact(n):\n",
    "    fac = 1\n",
    "    for i in range(1,n+1):\n",
    "        fac = fac * i\n",
    "    return fac\n",
    "n = int(input(\"enter n value\"))\n",
    "fact(n)"
   ]
  },
  {
   "cell_type": "code",
   "execution_count": 4,
   "id": "eb55c11d",
   "metadata": {},
   "outputs": [
    {
     "name": "stdout",
     "output_type": "stream",
     "text": [
      "enter n value6\n"
     ]
    },
    {
     "data": {
      "text/plain": [
       "720"
      ]
     },
     "execution_count": 4,
     "metadata": {},
     "output_type": "execute_result"
    }
   ],
   "source": [
    "def factrecur(n):\n",
    "    if n==1:\n",
    "        return 1\n",
    "    else:\n",
    "        return (n*factrecur(n-1))\n",
    "    \n",
    "n = int(input(\"enter n value\"))\n",
    "fact(n)"
   ]
  },
  {
   "cell_type": "markdown",
   "id": "382fd293",
   "metadata": {},
   "source": [
    "dictionary:\n",
    "--------------\n",
    "-dictionary is collection of items  with any datatype and can be accessed using keys\n",
    "-keys are unique\n",
    "-representd by braces\n",
    "-each keys seperated,from it value by colon(:) key:value\n",
    "- its a mutable # changable\n"
   ]
  },
  {
   "cell_type": "code",
   "execution_count": 5,
   "id": "58a6ade6",
   "metadata": {},
   "outputs": [
    {
     "data": {
      "text/plain": [
       "dict"
      ]
     },
     "execution_count": 5,
     "metadata": {},
     "output_type": "execute_result"
    }
   ],
   "source": [
    "d = {}\n",
    "type(d)"
   ]
  },
  {
   "cell_type": "code",
   "execution_count": 7,
   "id": "abc94020",
   "metadata": {},
   "outputs": [
    {
     "name": "stdout",
     "output_type": "stream",
     "text": [
      "{1: 4, 7: 8, 9: 56, 8: 'python'}\n"
     ]
    },
    {
     "data": {
      "text/plain": [
       "{'fruits': ['apple', 'banana', 'grapes'], 1: 'animal'}"
      ]
     },
     "execution_count": 7,
     "metadata": {},
     "output_type": "execute_result"
    }
   ],
   "source": [
    "d = {1:4,7:8,9:56,8:\"python\"}\n",
    "d1 = {\"fruits\":[\"apple\",\"banana\",\"grapes\"],1:\"animal\"}\n",
    "print(d)\n",
    "d1"
   ]
  },
  {
   "cell_type": "code",
   "execution_count": 10,
   "id": "122b18e5",
   "metadata": {},
   "outputs": [
    {
     "data": {
      "text/plain": [
       "{'fruits': ['apple', 'banana', 'grapes'], 1: 76, 2: 76}"
      ]
     },
     "execution_count": 10,
     "metadata": {},
     "output_type": "execute_result"
    }
   ],
   "source": [
    "d1[1] = 76\n",
    "d1"
   ]
  },
  {
   "cell_type": "code",
   "execution_count": 13,
   "id": "37ce2143",
   "metadata": {},
   "outputs": [
    {
     "data": {
      "text/plain": [
       "['apple', 'banana', 'grapes']"
      ]
     },
     "execution_count": 13,
     "metadata": {},
     "output_type": "execute_result"
    }
   ],
   "source": [
    "d1[\"fruits\"]"
   ]
  },
  {
   "cell_type": "code",
   "execution_count": 14,
   "id": "4d26bcba",
   "metadata": {},
   "outputs": [],
   "source": [
    "d1[\"course\"] = \"python\""
   ]
  },
  {
   "cell_type": "code",
   "execution_count": 15,
   "id": "7674e3e6",
   "metadata": {},
   "outputs": [
    {
     "data": {
      "text/plain": [
       "{'fruits': ['apple', 'banana', 'grapes'], 1: 76, 2: 76, 'course': 'python'}"
      ]
     },
     "execution_count": 15,
     "metadata": {},
     "output_type": "execute_result"
    }
   ],
   "source": [
    "d1"
   ]
  },
  {
   "cell_type": "code",
   "execution_count": 16,
   "id": "07944322",
   "metadata": {},
   "outputs": [
    {
     "data": {
      "text/plain": [
       "dict_items([('fruits', ['apple', 'banana', 'grapes']), (1, 76), (2, 76), ('course', 'python')])"
      ]
     },
     "execution_count": 16,
     "metadata": {},
     "output_type": "execute_result"
    }
   ],
   "source": [
    "d1.items()"
   ]
  },
  {
   "cell_type": "code",
   "execution_count": 17,
   "id": "cf3a196c",
   "metadata": {},
   "outputs": [
    {
     "data": {
      "text/plain": [
       "dict_keys(['fruits', 1, 2, 'course'])"
      ]
     },
     "execution_count": 17,
     "metadata": {},
     "output_type": "execute_result"
    }
   ],
   "source": [
    "d1.keys()"
   ]
  },
  {
   "cell_type": "code",
   "execution_count": 18,
   "id": "4aedb40c",
   "metadata": {},
   "outputs": [
    {
     "data": {
      "text/plain": [
       "dict_values([['apple', 'banana', 'grapes'], 76, 76, 'python'])"
      ]
     },
     "execution_count": 18,
     "metadata": {},
     "output_type": "execute_result"
    }
   ],
   "source": [
    "d1.values()"
   ]
  },
  {
   "cell_type": "code",
   "execution_count": 19,
   "id": "4129f66a",
   "metadata": {},
   "outputs": [
    {
     "data": {
      "text/plain": [
       "'python'"
      ]
     },
     "execution_count": 19,
     "metadata": {},
     "output_type": "execute_result"
    }
   ],
   "source": [
    "d1.get(\"course\")"
   ]
  },
  {
   "cell_type": "code",
   "execution_count": 20,
   "id": "925bc952",
   "metadata": {},
   "outputs": [
    {
     "data": {
      "text/plain": [
       "76"
      ]
     },
     "execution_count": 20,
     "metadata": {},
     "output_type": "execute_result"
    }
   ],
   "source": [
    "d1.get(1)"
   ]
  },
  {
   "cell_type": "code",
   "execution_count": 21,
   "id": "80052606",
   "metadata": {},
   "outputs": [],
   "source": [
    "d1.update({78:987.34})"
   ]
  },
  {
   "cell_type": "code",
   "execution_count": 22,
   "id": "cb300473",
   "metadata": {},
   "outputs": [
    {
     "data": {
      "text/plain": [
       "{'fruits': ['apple', 'banana', 'grapes'],\n",
       " 1: 76,\n",
       " 2: 76,\n",
       " 'course': 'python',\n",
       " 78: 987.34}"
      ]
     },
     "execution_count": 22,
     "metadata": {},
     "output_type": "execute_result"
    }
   ],
   "source": [
    "d1"
   ]
  },
  {
   "cell_type": "code",
   "execution_count": 23,
   "id": "1c231c36",
   "metadata": {},
   "outputs": [
    {
     "data": {
      "text/plain": [
       "{'fruits': ['apple', 'banana', 'grapes'],\n",
       " 1: 76,\n",
       " 2: 76,\n",
       " 'course': 'python programmin',\n",
       " 78: 987.34}"
      ]
     },
     "execution_count": 23,
     "metadata": {},
     "output_type": "execute_result"
    }
   ],
   "source": [
    "d1.update({\"course\":\"python programmin\"})\n",
    "d1"
   ]
  },
  {
   "cell_type": "code",
   "execution_count": 27,
   "id": "7c731d5d",
   "metadata": {},
   "outputs": [],
   "source": [
    "d1.setdefault(\"a\")"
   ]
  },
  {
   "cell_type": "code",
   "execution_count": 28,
   "id": "5b5af0bc",
   "metadata": {},
   "outputs": [
    {
     "data": {
      "text/plain": [
       "{'fruits': ['apple', 'banana', 'grapes'],\n",
       " 1: 76,\n",
       " 2: 76,\n",
       " 'course': 'python programmin',\n",
       " 78: 987.34,\n",
       " 'a': None}"
      ]
     },
     "execution_count": 28,
     "metadata": {},
     "output_type": "execute_result"
    }
   ],
   "source": [
    "d1"
   ]
  },
  {
   "cell_type": "code",
   "execution_count": 29,
   "id": "1b913af6",
   "metadata": {},
   "outputs": [
    {
     "data": {
      "text/plain": [
       "76"
      ]
     },
     "execution_count": 29,
     "metadata": {},
     "output_type": "execute_result"
    }
   ],
   "source": [
    "d1.setdefault(1)"
   ]
  },
  {
   "cell_type": "code",
   "execution_count": 30,
   "id": "ba562361",
   "metadata": {},
   "outputs": [
    {
     "data": {
      "text/plain": [
       "{'h': 456, 'e': 456, 'l': 456, 'o': 456}"
      ]
     },
     "execution_count": 30,
     "metadata": {},
     "output_type": "execute_result"
    }
   ],
   "source": [
    "h = {}\n",
    "h. fromkeys(\"hello\",456)"
   ]
  },
  {
   "cell_type": "code",
   "execution_count": 31,
   "id": "448b01b1",
   "metadata": {},
   "outputs": [],
   "source": [
    "h.clear()"
   ]
  },
  {
   "cell_type": "code",
   "execution_count": 32,
   "id": "f371cce8",
   "metadata": {},
   "outputs": [
    {
     "data": {
      "text/plain": [
       "{}"
      ]
     },
     "execution_count": 32,
     "metadata": {},
     "output_type": "execute_result"
    }
   ],
   "source": [
    "h"
   ]
  },
  {
   "cell_type": "code",
   "execution_count": 33,
   "id": "2a386fd9",
   "metadata": {},
   "outputs": [
    {
     "data": {
      "text/plain": [
       "{1: 4, 7: 8, 9: 56, 8: 'python'}"
      ]
     },
     "execution_count": 33,
     "metadata": {},
     "output_type": "execute_result"
    }
   ],
   "source": [
    "a = d.copy()\n",
    "a"
   ]
  },
  {
   "cell_type": "code",
   "execution_count": 34,
   "id": "b984e67c",
   "metadata": {},
   "outputs": [
    {
     "data": {
      "text/plain": [
       "'python'"
      ]
     },
     "execution_count": 34,
     "metadata": {},
     "output_type": "execute_result"
    }
   ],
   "source": [
    "d.pop(8)"
   ]
  },
  {
   "cell_type": "code",
   "execution_count": 35,
   "id": "1675eecf",
   "metadata": {},
   "outputs": [
    {
     "data": {
      "text/plain": [
       "8"
      ]
     },
     "execution_count": 35,
     "metadata": {},
     "output_type": "execute_result"
    }
   ],
   "source": [
    "d.pop(7)"
   ]
  },
  {
   "cell_type": "code",
   "execution_count": 36,
   "id": "67c503a3",
   "metadata": {},
   "outputs": [
    {
     "data": {
      "text/plain": [
       "{1: 4, 9: 56}"
      ]
     },
     "execution_count": 36,
     "metadata": {},
     "output_type": "execute_result"
    }
   ],
   "source": [
    "d"
   ]
  },
  {
   "cell_type": "code",
   "execution_count": 37,
   "id": "469bb329",
   "metadata": {},
   "outputs": [
    {
     "data": {
      "text/plain": [
       "(9, 56)"
      ]
     },
     "execution_count": 37,
     "metadata": {},
     "output_type": "execute_result"
    }
   ],
   "source": [
    "d.popitem()"
   ]
  },
  {
   "cell_type": "code",
   "execution_count": 38,
   "id": "2dfeaa5b",
   "metadata": {},
   "outputs": [
    {
     "data": {
      "text/plain": [
       "{1: 4}"
      ]
     },
     "execution_count": 38,
     "metadata": {},
     "output_type": "execute_result"
    }
   ],
   "source": [
    "d"
   ]
  },
  {
   "cell_type": "code",
   "execution_count": 39,
   "id": "1f92d082",
   "metadata": {},
   "outputs": [
    {
     "data": {
      "text/plain": [
       "(1, 4)"
      ]
     },
     "execution_count": 39,
     "metadata": {},
     "output_type": "execute_result"
    }
   ],
   "source": [
    "d.popitem()"
   ]
  },
  {
   "cell_type": "code",
   "execution_count": 40,
   "id": "5174ba30",
   "metadata": {},
   "outputs": [
    {
     "data": {
      "text/plain": [
       "{}"
      ]
     },
     "execution_count": 40,
     "metadata": {},
     "output_type": "execute_result"
    }
   ],
   "source": [
    "d"
   ]
  },
  {
   "cell_type": "code",
   "execution_count": null,
   "id": "ead66b2c",
   "metadata": {},
   "outputs": [],
   "source": [
    "sname\n",
    "sollno\n",
    "sbranch"
   ]
  },
  {
   "cell_type": "code",
   "execution_count": 41,
   "id": "fc16f3ee",
   "metadata": {},
   "outputs": [
    {
     "ename": "NameError",
     "evalue": "name 'sbranch' is not defined",
     "output_type": "error",
     "traceback": [
      "\u001b[1;31m---------------------------------------------------------------------------\u001b[0m",
      "\u001b[1;31mNameError\u001b[0m                                 Traceback (most recent call last)",
      "\u001b[1;32m<ipython-input-41-67611017062e>\u001b[0m in \u001b[0;36m<module>\u001b[1;34m\u001b[0m\n\u001b[1;32m----> 1\u001b[1;33m \u001b[0md1\u001b[0m \u001b[1;33m=\u001b[0m \u001b[1;33m{\u001b[0m\u001b[1;34m\"sname\"\u001b[0m\u001b[1;33m:\u001b[0m\u001b[1;33m[\u001b[0m\u001b[1;34m\"sai\"\u001b[0m\u001b[1;33m,\u001b[0m\u001b[1;34m\"sanju\"\u001b[0m\u001b[1;33m,\u001b[0m\u001b[1;34m\"sandip\"\u001b[0m\u001b[1;33m]\u001b[0m\u001b[1;33m,\u001b[0m\u001b[0msbranch\u001b[0m\u001b[1;33m:\u001b[0m\u001b[1;33m[\u001b[0m\u001b[1;34m\"cse\"\u001b[0m\u001b[1;33m,\u001b[0m\u001b[1;34m\"eee\"\u001b[0m\u001b[1;33m,\u001b[0m\u001b[1;34m\"ece\"\u001b[0m\u001b[1;33m]\u001b[0m\u001b[1;33m,\u001b[0m\u001b[0msrollno\u001b[0m\u001b[1;33m:\u001b[0m\u001b[1;33m[\u001b[0m\u001b[1;36m5\u001b[0m\u001b[1;33m,\u001b[0m\u001b[1;36m10\u001b[0m\u001b[1;33m,\u001b[0m\u001b[1;36m15\u001b[0m\u001b[1;33m]\u001b[0m\u001b[1;33m}\u001b[0m\u001b[1;33m\u001b[0m\u001b[1;33m\u001b[0m\u001b[0m\n\u001b[0m\u001b[0;32m      2\u001b[0m \u001b[0mprint\u001b[0m\u001b[1;33m(\u001b[0m\u001b[0md\u001b[0m\u001b[1;33m)\u001b[0m\u001b[1;33m\u001b[0m\u001b[1;33m\u001b[0m\u001b[0m\n\u001b[0;32m      3\u001b[0m \u001b[0md1\u001b[0m\u001b[1;33m\u001b[0m\u001b[1;33m\u001b[0m\u001b[0m\n",
      "\u001b[1;31mNameError\u001b[0m: name 'sbranch' is not defined"
     ]
    }
   ],
   "source": [
    "d1 = {\"sname\":[\"sai\",\"sanju\",\"sandip\"],sbranch:[\"cse\",\"eee\",\"ece\"],srollno:[5,10,15]}\n",
    "print(d)\n",
    "d1"
   ]
  },
  {
   "cell_type": "code",
   "execution_count": 5,
   "id": "e92fc831",
   "metadata": {},
   "outputs": [
    {
     "name": "stdout",
     "output_type": "stream",
     "text": [
      "enter n value2\n",
      "enter snamesai\n",
      "enter srollno123\n",
      "enter sbranchcse\n",
      "enter snamedileep\n",
      "enter srollno316\n",
      "enter sbrancheee\n",
      "{'123': ['sai', 'cse'], '316': ['dileep', 'eee']}\n"
     ]
    }
   ],
   "source": [
    "def addItems(n):\n",
    "    d = {}\n",
    "    for i in range(n):\n",
    "        sname = input(\"enter sname\")\n",
    "        srollno = input(\"enter srollno\")\n",
    "        sbranch = input(\"enter sbranch\")\n",
    "        d[srollno] = [sname,sbranch]\n",
    "    print(d)\n",
    "    \n",
    "n = int(input(\"enter n value\"))\n",
    "addItems(n)"
   ]
  },
  {
   "cell_type": "code",
   "execution_count": null,
   "id": "e9013ea9",
   "metadata": {},
   "outputs": [],
   "source": []
  }
 ],
 "metadata": {
  "kernelspec": {
   "display_name": "Python 3",
   "language": "python",
   "name": "python3"
  },
  "language_info": {
   "codemirror_mode": {
    "name": "ipython",
    "version": 3
   },
   "file_extension": ".py",
   "mimetype": "text/x-python",
   "name": "python",
   "nbconvert_exporter": "python",
   "pygments_lexer": "ipython3",
   "version": "3.8.8"
  }
 },
 "nbformat": 4,
 "nbformat_minor": 5
}
