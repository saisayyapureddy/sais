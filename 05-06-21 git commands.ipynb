{
 "cells": [
  {
   "cell_type": "markdown",
   "id": "72bff0fc",
   "metadata": {},
   "source": [
    "- Git and Github\n",
    "   - local version\n",
    "   - central version\n",
    "   - distributed version\n",
    "- mkdir foldername(folder creation)\n",
    "- cd foldername(move to folder)\n",
    "- touch filename.extension(to create file)\n",
    "- touch {a..d}.extension\n",
    "      - nano filename\n",
    "      - cat filename\n",
    "- git init\n",
    "- git config --global user.name 'username'\n",
    "- git config --global user.email emailid\n",
    "- git status\n",
    "- git add filename(single file)\n",
    "- git add .(adding multiple files)\n",
    "- git commit -m 'commit message'\n",
    "- git remote add remotename giturl\n",
    "- git push remotename branchname\n",
    "- git pull remotename branchname\n",
    "        files create:\n",
    "        \n",
    "      git status\n",
    "      git add .\n",
    "      git commit\n",
    "      git remote\n",
    "      git push"
   ]
  },
  {
   "cell_type": "code",
   "execution_count": null,
   "id": "a5759ab8",
   "metadata": {},
   "outputs": [],
   "source": []
  }
 ],
 "metadata": {
  "kernelspec": {
   "display_name": "Python 3",
   "language": "python",
   "name": "python3"
  },
  "language_info": {
   "codemirror_mode": {
    "name": "ipython",
    "version": 3
   },
   "file_extension": ".py",
   "mimetype": "text/x-python",
   "name": "python",
   "nbconvert_exporter": "python",
   "pygments_lexer": "ipython3",
   "version": "3.8.8"
  }
 },
 "nbformat": 4,
 "nbformat_minor": 5
}
