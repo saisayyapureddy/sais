{
 "cells": [
  {
   "cell_type": "markdown",
   "id": "99b43ffc",
   "metadata": {},
   "source": [
    "Conditional statements:\n",
    "---------------------------------\n",
    "- To make decisions based on condition\n",
    "\n",
    "- if\n",
    "    - if the condition is satisfied then the statemnets present in if block will be executed\n",
    "- if else\n",
    "    - if the condition is satisfied then the statemnets present in if block will be executed and if the condition fails then the statements present in else block will be executed\n",
    "- elif\n",
    "    - if we want to check more than one condition like other than if then we use elif, and this elif statemnets will execute if the condition present in if fails\n",
    "- Nested if\n",
    "     - based on condition checking we use nested if"
   ]
  },
  {
   "cell_type": "code",
   "execution_count": null,
   "id": "bd103427",
   "metadata": {},
   "outputs": [],
   "source": [
    "# if else syntax\n",
    "if condition:\n",
    "    statement1\n",
    "    statement2\n",
    "    statementn\n",
    "else:\n",
    "    statement1\n",
    "    statement2"
   ]
  },
  {
   "cell_type": "code",
   "execution_count": 2,
   "id": "a7b5133a",
   "metadata": {},
   "outputs": [
    {
     "name": "stdout",
     "output_type": "stream",
     "text": [
      "enter a number2\n",
      "Positive Number\n"
     ]
    }
   ],
   "source": [
    "n = int(input(\"enter a number\"))\n",
    "if n>0:\n",
    "    print(\"Positive Number\")\n",
    "else:\n",
    "    print(\"Negative number\")"
   ]
  },
  {
   "cell_type": "code",
   "execution_count": 3,
   "id": "6a4281d2",
   "metadata": {},
   "outputs": [
    {
     "name": "stdout",
     "output_type": "stream",
     "text": [
      "enter a number-1\n",
      "Negative number\n"
     ]
    }
   ],
   "source": [
    "n = int(input(\"enter a number\"))\n",
    "if n>0:\n",
    "    print(\"Positive Number\")\n",
    "else:\n",
    "    print(\"Negative number\")"
   ]
  },
  {
   "cell_type": "code",
   "execution_count": 4,
   "id": "d4d297ed",
   "metadata": {},
   "outputs": [
    {
     "name": "stdout",
     "output_type": "stream",
     "text": [
      "enter a value9\n",
      "enter b value7\n",
      "enter c value6\n",
      "9 largest\n"
     ]
    }
   ],
   "source": [
    "a = int(input(\"enter a value\"))\n",
    "b = int(input(\"enter b value\"))\n",
    "c = int(input(\"enter c value\"))\n",
    "# a,b,c = int(input()), int(input()), int(input())\n",
    "if a>b:\n",
    "    if a>c:\n",
    "        print(a,\"largest\")\n",
    "    else:\n",
    "        print(c, \"largest\")\n",
    "elif b>c:\n",
    "    print(b,\"largest\")\n",
    "else:\n",
    "    print(c,\"largest\")"
   ]
  },
  {
   "cell_type": "code",
   "execution_count": 5,
   "id": "0e7d6053",
   "metadata": {},
   "outputs": [
    {
     "name": "stdout",
     "output_type": "stream",
     "text": [
      "enter usernamepython\n",
      "invalid username\n"
     ]
    }
   ],
   "source": [
    "uname = \"Python\"\n",
    "pwd = \"12345\"\n",
    "\n",
    "username = input(\"enter username\")\n",
    "if uname == username:\n",
    "    password = input(\"enter password\")\n",
    "    if pwd == password:\n",
    "        print(\"welcome \"+uname)\n",
    "    else:\n",
    "        print(\"invalid password\")\n",
    "else:\n",
    "    print(\"invalid username\")"
   ]
  },
  {
   "cell_type": "markdown",
   "id": "b0e3425a",
   "metadata": {},
   "source": [
    "- if the static and dynamic username matches, then the code should prompt passowrd or else return username invalid\n",
    "- if both password matches return welcome username or else return invalid password"
   ]
  },
  {
   "cell_type": "markdown",
   "id": "4dc6ccb8",
   "metadata": {},
   "source": [
    "Loops\n",
    "-----\n",
    "- loops are used for iterating over a sequence of code"
   ]
  },
  {
   "cell_type": "code",
   "execution_count": null,
   "id": "80498201",
   "metadata": {},
   "outputs": [],
   "source": [
    "# for loop\n",
    "for i in range(start,stop,step):\n",
    "    statements\n",
    "    \n",
    "# range(stop) --> start = 0, stop-1 step = 1\n",
    "# range(start,stop) \n",
    "# range(start, stop,step) -->"
   ]
  },
  {
   "cell_type": "code",
   "execution_count": 7,
   "id": "b4132362",
   "metadata": {},
   "outputs": [
    {
     "name": "stdout",
     "output_type": "stream",
     "text": [
      "1 2 3 4 5 6 7 8 9 10 "
     ]
    }
   ],
   "source": [
    "for i in range(1,10+1):\n",
    "    print(i,end=\" \")"
   ]
  },
  {
   "cell_type": "code",
   "execution_count": 8,
   "id": "43e024db",
   "metadata": {},
   "outputs": [
    {
     "name": "stdout",
     "output_type": "stream",
     "text": [
      "1 4 7 10 13 16 19 "
     ]
    }
   ],
   "source": [
    "for i in range(1,20,3):\n",
    "    print(i,end=\" \")"
   ]
  },
  {
   "cell_type": "code",
   "execution_count": 9,
   "id": "968cdd4d",
   "metadata": {},
   "outputs": [
    {
     "name": "stdout",
     "output_type": "stream",
     "text": [
      "1 6 11 16 21 26 31 36 41 46 51 56 61 66 71 76 81 86 91 96 "
     ]
    }
   ],
   "source": [
    "for i in range(1,100,5):\n",
    "    print(i,end=\" \")"
   ]
  },
  {
   "cell_type": "code",
   "execution_count": 10,
   "id": "95b3f927",
   "metadata": {},
   "outputs": [
    {
     "name": "stdout",
     "output_type": "stream",
     "text": [
      "0\n",
      "2\n",
      "4\n",
      "6\n",
      "8\n",
      "10\n"
     ]
    }
   ],
   "source": [
    "for i in range(0,11,2):\n",
    "    print(i)"
   ]
  },
  {
   "cell_type": "code",
   "execution_count": 11,
   "id": "ebec4793",
   "metadata": {},
   "outputs": [
    {
     "name": "stdout",
     "output_type": "stream",
     "text": [
      "20 18 16 14 12 10 8 6 4 2 "
     ]
    }
   ],
   "source": [
    "for i in range(20,1,-2):\n",
    "    print(i, end=\" \")"
   ]
  },
  {
   "cell_type": "code",
   "execution_count": null,
   "id": "fc4d1031",
   "metadata": {},
   "outputs": [],
   "source": [
    "while condition:\n",
    "    statements"
   ]
  },
  {
   "cell_type": "code",
   "execution_count": 12,
   "id": "cdf23bb4",
   "metadata": {},
   "outputs": [
    {
     "name": "stdout",
     "output_type": "stream",
     "text": [
      "55\n"
     ]
    }
   ],
   "source": [
    "s = 0\n",
    "i = 1\n",
    "while i<=10:\n",
    "    s += i # s= s + i\n",
    "    i +=1\n",
    "print(s)"
   ]
  },
  {
   "cell_type": "code",
   "execution_count": 14,
   "id": "57c4fed2",
   "metadata": {},
   "outputs": [
    {
     "name": "stdout",
     "output_type": "stream",
     "text": [
      "O\n",
      "n\n",
      "l\n",
      "i\n",
      "n\n",
      "e\n",
      " \n",
      "p\n",
      "r\n",
      "o\n",
      "g\n",
      "r\n",
      "a\n"
     ]
    }
   ],
   "source": [
    "s = \"Online program\"\n",
    "for i in range(len(s)):\n",
    "    if s[i] == \"m\":\n",
    "        break\n",
    "    else:\n",
    "        print(s[i])"
   ]
  },
  {
   "cell_type": "code",
   "execution_count": 15,
   "id": "31cd84c1",
   "metadata": {},
   "outputs": [
    {
     "name": "stdout",
     "output_type": "stream",
     "text": [
      "O\n",
      "n\n",
      "l\n",
      "i\n",
      "n\n",
      "e\n",
      " \n",
      "p\n",
      "o\n",
      "g\n",
      "a\n",
      "m\n"
     ]
    }
   ],
   "source": [
    "s = \"Online program\"\n",
    "for i in range(len(s)):\n",
    "    if s[i] == \"r\":\n",
    "        continue\n",
    "    else:\n",
    "        print(s[i])"
   ]
  },
  {
   "cell_type": "code",
   "execution_count": null,
   "id": "36d13fdb",
   "metadata": {},
   "outputs": [],
   "source": []
  }
 ],
 "metadata": {
  "kernelspec": {
   "display_name": "Python 3",
   "language": "python",
   "name": "python3"
  },
  "language_info": {
   "codemirror_mode": {
    "name": "ipython",
    "version": 3
   },
   "file_extension": ".py",
   "mimetype": "text/x-python",
   "name": "python",
   "nbconvert_exporter": "python",
   "pygments_lexer": "ipython3",
   "version": "3.8.8"
  }
 },
 "nbformat": 4,
 "nbformat_minor": 5
}
