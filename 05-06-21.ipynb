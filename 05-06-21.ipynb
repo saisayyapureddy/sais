{
 "cells": [
  {
   "cell_type": "markdown",
   "id": "2ea79a2f",
   "metadata": {},
   "source": [
    "- git and github\n",
    "   - local version controle\n",
    "   - center version \n",
    "   - distributed version"
   ]
  },
  {
   "cell_type": "markdown",
   "id": "d77f1277",
   "metadata": {},
   "source": [
    "- git --version"
   ]
  },
  {
   "cell_type": "code",
   "execution_count": null,
   "id": "7c8b790d",
   "metadata": {},
   "outputs": [],
   "source": [
    "- mkdir folder name\n",
    "- cd folder name(move to folder)\n",
    "- "
   ]
  },
  {
   "cell_type": "code",
   "execution_count": null,
   "id": "305e3e64",
   "metadata": {},
   "outputs": [],
   "source": []
  }
 ],
 "metadata": {
  "kernelspec": {
   "display_name": "Python 3",
   "language": "python",
   "name": "python3"
  },
  "language_info": {
   "codemirror_mode": {
    "name": "ipython",
    "version": 3
   },
   "file_extension": ".py",
   "mimetype": "text/x-python",
   "name": "python",
   "nbconvert_exporter": "python",
   "pygments_lexer": "ipython3",
   "version": "3.8.8"
  }
 },
 "nbformat": 4,
 "nbformat_minor": 5
}
