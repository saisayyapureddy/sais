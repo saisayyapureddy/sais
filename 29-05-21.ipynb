{
 "cells": [
  {
   "cell_type": "markdown",
   "id": "a73aa5ff",
   "metadata": {},
   "source": [
    "- vowels count"
   ]
  },
  {
   "cell_type": "code",
   "execution_count": 1,
   "id": "f90e09f0",
   "metadata": {},
   "outputs": [
    {
     "name": "stdout",
     "output_type": "stream",
     "text": [
      "apssdc\n"
     ]
    },
    {
     "data": {
      "text/plain": [
       "{'a': 1}"
      ]
     },
     "execution_count": 1,
     "metadata": {},
     "output_type": "execute_result"
    }
   ],
   "source": [
    "name = input()\n",
    "vowels = ['a','e','i','o','u','A','E','I','O','U']\n",
    "{char:name.count(char) for char in name if char in vowels}"
   ]
  },
  {
   "cell_type": "code",
   "execution_count": 2,
   "id": "0f795427",
   "metadata": {},
   "outputs": [
    {
     "name": "stdout",
     "output_type": "stream",
     "text": [
      "sai\n"
     ]
    },
    {
     "data": {
      "text/plain": [
       "{'a': 1, 'i': 1}"
      ]
     },
     "execution_count": 2,
     "metadata": {},
     "output_type": "execute_result"
    }
   ],
   "source": [
    "name = input()\n",
    "vowels = ['a','e','i','o','u','A','E','I','O','U']\n",
    "{char:name.count(char) for char in name if char in vowels}"
   ]
  },
  {
   "cell_type": "code",
   "execution_count": 4,
   "id": "c551bc38",
   "metadata": {},
   "outputs": [
    {
     "name": "stdout",
     "output_type": "stream",
     "text": [
      "[(3, 4, 5), (5, 12, 13), (6, 8, 10), (7, 24, 25), (8, 15, 17), (9, 12, 15), (9, 40, 41), (10, 24, 26), (11, 60, 61), (12, 16, 20), (12, 35, 37), (13, 84, 85), (14, 48, 50), (15, 20, 25), (15, 36, 39), (16, 30, 34), (16, 63, 65), (18, 24, 30), (18, 80, 82), (20, 21, 29), (20, 48, 52), (21, 28, 35), (21, 72, 75), (24, 32, 40), (24, 45, 51), (24, 70, 74), (25, 60, 65), (27, 36, 45), (28, 45, 53), (30, 40, 50), (30, 72, 78), (32, 60, 68), (33, 44, 55), (33, 56, 65), (35, 84, 91), (36, 48, 60), (36, 77, 85), (39, 52, 65), (39, 80, 89), (40, 42, 58), (40, 75, 85), (42, 56, 70), (45, 60, 75), (48, 55, 73), (48, 64, 80), (51, 68, 85), (54, 72, 90), (57, 76, 95), (60, 63, 87), (65, 72, 97)]\n"
     ]
    }
   ],
   "source": [
    "l = [(x,y,z) for x in range(1,100) for y in range(x,100) for z in range(y,100) if x**2 + y**2 == z**2]\n",
    "print(l)"
   ]
  },
  {
   "cell_type": "code",
   "execution_count": null,
   "id": "f55d1054",
   "metadata": {},
   "outputs": [],
   "source": [
    "generators"
   ]
  },
  {
   "cell_type": "code",
   "execution_count": 5,
   "id": "aef3f22f",
   "metadata": {},
   "outputs": [
    {
     "name": "stdout",
     "output_type": "stream",
     "text": [
      "A\n",
      "E\n",
      "I\n",
      "O\n",
      "U\n"
     ]
    }
   ],
   "source": [
    "def vowels():\n",
    "    yield 'A'\n",
    "    yield 'E'\n",
    "    yield 'I'\n",
    "    yield 'O'\n",
    "    yield 'U'\n",
    "for value in vowels():\n",
    "    print(value)"
   ]
  },
  {
   "cell_type": "code",
   "execution_count": 12,
   "id": "e94118d7",
   "metadata": {},
   "outputs": [
    {
     "name": "stdout",
     "output_type": "stream",
     "text": [
      "0\n",
      "1\n",
      "2\n",
      "3\n",
      "4\n"
     ]
    },
    {
     "ename": "StopIteration",
     "evalue": "",
     "output_type": "error",
     "traceback": [
      "\u001b[1;31m---------------------------------------------------------------------------\u001b[0m",
      "\u001b[1;31mStopIteration\u001b[0m                             Traceback (most recent call last)",
      "\u001b[1;32m<ipython-input-12-a24df91daca3>\u001b[0m in \u001b[0;36m<module>\u001b[1;34m\u001b[0m\n\u001b[0;32m     10\u001b[0m \u001b[0mprint\u001b[0m\u001b[1;33m(\u001b[0m\u001b[0mnext\u001b[0m\u001b[1;33m(\u001b[0m\u001b[0mx\u001b[0m\u001b[1;33m)\u001b[0m\u001b[1;33m)\u001b[0m\u001b[1;33m\u001b[0m\u001b[1;33m\u001b[0m\u001b[0m\n\u001b[0;32m     11\u001b[0m \u001b[0mprint\u001b[0m\u001b[1;33m(\u001b[0m\u001b[0mnext\u001b[0m\u001b[1;33m(\u001b[0m\u001b[0mx\u001b[0m\u001b[1;33m)\u001b[0m\u001b[1;33m)\u001b[0m\u001b[1;33m\u001b[0m\u001b[1;33m\u001b[0m\u001b[0m\n\u001b[1;32m---> 12\u001b[1;33m \u001b[0mprint\u001b[0m\u001b[1;33m(\u001b[0m\u001b[0mnext\u001b[0m\u001b[1;33m(\u001b[0m\u001b[0mx\u001b[0m\u001b[1;33m)\u001b[0m\u001b[1;33m)\u001b[0m\u001b[1;33m\u001b[0m\u001b[1;33m\u001b[0m\u001b[0m\n\u001b[0m",
      "\u001b[1;31mStopIteration\u001b[0m: "
     ]
    }
   ],
   "source": [
    "def numrange(n):\n",
    "    i = 0\n",
    "    while i < n:\n",
    "        yield i\n",
    "        i = i + 1\n",
    "x = numrange(5)\n",
    "print(next(x))\n",
    "print(next(x))\n",
    "print(next(x))\n",
    "print(next(x))\n",
    "print(next(x))\n",
    "print(next(x))"
   ]
  },
  {
   "cell_type": "code",
   "execution_count": 14,
   "id": "f0b20b98",
   "metadata": {},
   "outputs": [
    {
     "name": "stdout",
     "output_type": "stream",
     "text": [
      "4\n",
      "16\n",
      "256\n",
      "65536\n",
      "4294967296\n",
      "18446744073709551616\n"
     ]
    }
   ],
   "source": [
    "# range (5)\n",
    "def gen():\n",
    "    n = 2\n",
    "    while True:\n",
    "        n**=2\n",
    "        yield n\n",
    "a = gen()\n",
    "for i in range(6):\n",
    "    print(next(a))"
   ]
  },
  {
   "cell_type": "code",
   "execution_count": null,
   "id": "692b6c62",
   "metadata": {},
   "outputs": [],
   "source": [
    "- functional programming\n",
    "    - map\n",
    "    - filter\n",
    "    - lambda\n"
   ]
  },
  {
   "cell_type": "code",
   "execution_count": null,
   "id": "5bef15bf",
   "metadata": {},
   "outputs": [],
   "source": [
    "- map\n",
    "     - it produces a list of results  that apply given function to each item of a given iterable\n",
    "    -   syntax\n",
    "         - map(function,iterabble)\n",
    "    - returns a map object"
   ]
  },
  {
   "cell_type": "code",
   "execution_count": 2,
   "id": "1f11e6a5",
   "metadata": {},
   "outputs": [
    {
     "name": "stdout",
     "output_type": "stream",
     "text": [
      "12345\n",
      "['12345']\n",
      "<class 'list'>\n"
     ]
    }
   ],
   "source": [
    "num = input().split()\n",
    "print(num)\n",
    "print(type(num))"
   ]
  },
  {
   "cell_type": "code",
   "execution_count": 8,
   "id": "3e253e5d",
   "metadata": {},
   "outputs": [
    {
     "name": "stdout",
     "output_type": "stream",
     "text": [
      "12345\n",
      "[12345]\n",
      "<class 'int'>\n"
     ]
    }
   ],
   "source": [
    "num = list(map(int,input().split()))\n",
    "print(num)\n",
    "for i in num:\n",
    "    print(type(i))"
   ]
  },
  {
   "cell_type": "code",
   "execution_count": 7,
   "id": "a8036def",
   "metadata": {},
   "outputs": [
    {
     "data": {
      "text/plain": [
       "[2, 4, 6, 8, 10]"
      ]
     },
     "execution_count": 7,
     "metadata": {},
     "output_type": "execute_result"
    }
   ],
   "source": [
    "def add(n):\n",
    "    return n+n\n",
    "l = [1,2,3,4,5]\n",
    "output = list(map(add,l))\n",
    "output"
   ]
  },
  {
   "cell_type": "code",
   "execution_count": 6,
   "id": "76f13be4",
   "metadata": {},
   "outputs": [
    {
     "name": "stdout",
     "output_type": "stream",
     "text": [
      "enter start range: 1\n",
      "enter end range: 10\n"
     ]
    },
    {
     "data": {
      "text/plain": [
       "[1, 4, 9, 16, 25, 36, 49, 64, 81, 100]"
      ]
     },
     "execution_count": 6,
     "metadata": {},
     "output_type": "execute_result"
    }
   ],
   "source": [
    "def square(n):\n",
    "    return n*n\n",
    "lb = int(input('enter start range: '))\n",
    "ub = int(input('enter end range: '))\n",
    "result = list(map(square,range(lb,ub+1)))\n",
    "result"
   ]
  },
  {
   "cell_type": "code",
   "execution_count": 12,
   "id": "910dfce1",
   "metadata": {},
   "outputs": [
    {
     "name": "stdout",
     "output_type": "stream",
     "text": [
      "1,2,3,4,5\n",
      "sum is  15\n",
      "min is  1\n",
      "max is  5\n"
     ]
    }
   ],
   "source": [
    "a=list(map(int,input().split(\",\")))\n",
    "print(\"sum is \",sum(a))\n",
    "print(\"min is \",min(a))\n",
    "print(\"max is \",max(a))"
   ]
  },
  {
   "cell_type": "code",
   "execution_count": 15,
   "id": "c3207753",
   "metadata": {},
   "outputs": [
    {
     "name": "stdout",
     "output_type": "stream",
     "text": [
      "1,2,3,4,5\n",
      "1\n",
      "15\n",
      "5\n"
     ]
    }
   ],
   "source": [
    "a = input().split(',') \n",
    "b = list(map(int,a))\n",
    "print(min(b))\n",
    "print(sum(b))\n",
    "print(max(b))"
   ]
  },
  {
   "cell_type": "code",
   "execution_count": 14,
   "id": "d747dda9",
   "metadata": {},
   "outputs": [
    {
     "name": "stdout",
     "output_type": "stream",
     "text": [
      "Enter test case input: 4\n",
      "1+2+3+4\n",
      "1\n",
      "4\n",
      "5+6+7+8\n",
      "5\n",
      "8\n",
      "0+6+5+8\n",
      "0\n",
      "8\n",
      "6+5+6+9\n",
      "5\n",
      "9\n"
     ]
    }
   ],
   "source": [
    "t = int(input('Enter test case input: '))\n",
    "for i in range(t):\n",
    "     a = input().split('+')\n",
    "    b = list(map(int,a))\n",
    "    print(min(b))\n",
    "    print(max(b))"
   ]
  },
  {
   "cell_type": "markdown",
   "id": "b463d29c",
   "metadata": {},
   "source": [
    "- filter\n",
    "   - used to check whether given element is boolean or not \n",
    "   - return true or false \n",
    "   - syntax:\n",
    "      - filter(function,iterable)\n",
    "   "
   ]
  },
  {
   "cell_type": "code",
   "execution_count": 17,
   "id": "54bd2fa6",
   "metadata": {},
   "outputs": [
    {
     "data": {
      "text/plain": [
       "[1, 2]"
      ]
     },
     "execution_count": 17,
     "metadata": {},
     "output_type": "execute_result"
    }
   ],
   "source": [
    " li = [1,2,'a','b','c']\n",
    "def isdigit(i):\n",
    "    i = str(i)\n",
    "    if i.isdigit():\n",
    "        return True\n",
    "    return False\n",
    "list(filter(isdigit,li))"
   ]
  },
  {
   "cell_type": "code",
   "execution_count": 18,
   "id": "23ea2cde",
   "metadata": {},
   "outputs": [
    {
     "name": "stdout",
     "output_type": "stream",
     "text": [
      "1\n",
      "100\n",
      "[2, 3, 5, 7, 11, 13, 17, 19, 23, 29, 31, 37, 41, 43, 47, 53, 59, 61, 67, 71, 73, 79, 83, 89, 97]\n"
     ]
    }
   ],
   "source": [
    "def isprime(n):\n",
    "    c = 0\n",
    "    for i in range(1,n+1):\n",
    "        if n % i == 0:\n",
    "            c += 1\n",
    "    if c == 2:\n",
    "        return True\n",
    "    else:\n",
    "        return False\n",
    "lb = int(input())\n",
    "ub = int(input())\n",
    "primelist = list(filter(isprime,range(lb,ub)))\n",
    "print(primelist)"
   ]
  },
  {
   "cell_type": "markdown",
   "id": "ce6303ae",
   "metadata": {},
   "source": [
    "- lambda\n",
    " -   anaonymous function\n",
    "- syntax\n",
    "          - lambda expression : arguements\n",
    "       - it takes 0 or mofe arguments  but only single expression"
   ]
  },
  {
   "cell_type": "code",
   "execution_count": 19,
   "id": "0b5825b2",
   "metadata": {},
   "outputs": [
    {
     "data": {
      "text/plain": [
       "125"
      ]
     },
     "execution_count": 19,
     "metadata": {},
     "output_type": "execute_result"
    }
   ],
   "source": [
    "r = lambda x:x**3\n",
    "r(5)"
   ]
  },
  {
   "cell_type": "code",
   "execution_count": 20,
   "id": "7c0ea37e",
   "metadata": {},
   "outputs": [
    {
     "data": {
      "text/plain": [
       "[1, 8, 27, 64, 125]"
      ]
     },
     "execution_count": 20,
     "metadata": {},
     "output_type": "execute_result"
    }
   ],
   "source": [
    "a = list(map(lambda x:x**3,[1,2,3,4,5,]))\n",
    "a"
   ]
  },
  {
   "cell_type": "code",
   "execution_count": 22,
   "id": "44debc2f",
   "metadata": {},
   "outputs": [
    {
     "data": {
      "text/plain": [
       "[10, 12, 14, 16, 18]"
      ]
     },
     "execution_count": 22,
     "metadata": {},
     "output_type": "execute_result"
    }
   ],
   "source": [
    "even = lambda x:x%2 ==0\n",
    "result = list(filter(even,range(10,20)))\n",
    "result"
   ]
  },
  {
   "cell_type": "code",
   "execution_count": 24,
   "id": "e0ea5911",
   "metadata": {},
   "outputs": [
    {
     "name": "stdout",
     "output_type": "stream",
     "text": [
      "['Sai Manasa', 'Poojitha Ikkurthi']\n"
     ]
    }
   ],
   "source": [
    "fname = ['sai','poojitha']\n",
    "lname =['manasa','ikkurthi']\n",
    "# sai manasa Puvvula Poojitha ikkurthi\n",
    "name = lambda x,y:x[0].upper()+x[1:]+' '+ y[0].upper()+y[1:]\n",
    "print(list(map(name,fname,lname)))"
   ]
  },
  {
   "cell_type": "code",
   "execution_count": null,
   "id": "6c05c24c",
   "metadata": {},
   "outputs": [],
   "source": []
  }
 ],
 "metadata": {
  "kernelspec": {
   "display_name": "Python 3",
   "language": "python",
   "name": "python3"
  },
  "language_info": {
   "codemirror_mode": {
    "name": "ipython",
    "version": 3
   },
   "file_extension": ".py",
   "mimetype": "text/x-python",
   "name": "python",
   "nbconvert_exporter": "python",
   "pygments_lexer": "ipython3",
   "version": "3.8.8"
  }
 },
 "nbformat": 4,
 "nbformat_minor": 5
}
