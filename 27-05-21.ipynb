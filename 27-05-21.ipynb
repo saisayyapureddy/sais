{
 "cells": [
  {
   "cell_type": "markdown",
   "id": "4d95b537",
   "metadata": {},
   "source": [
    "- regular Expression \n",
    "      - Patteren matching-\n",
    "-  ^ -- start\n",
    "- $ --  end\n",
    "- [0-9] -- numbers\n",
    "- [a-z\n",
    "- [A-Z]\n",
    "- [a-ZA-Z]\n",
    "- [@]\n",
    "- [0-9]{4}  -- matches only 4 digit no \n",
    "- | -- Another Pattern"
   ]
  },
  {
   "cell_type": "code",
   "execution_count": 4,
   "id": "89e106a4",
   "metadata": {},
   "outputs": [
    {
     "name": "stdout",
     "output_type": "stream",
     "text": [
      "enter your mobile number: +919533614043\n",
      "valid number\n"
     ]
    }
   ],
   "source": [
    "# phone number validation\n",
    "# number 10 digit\n",
    "# 6,7,8,9 or\n",
    "# +91\n",
    "# ^[6-9][0-9]{9}$\n",
    "# ^[+][9][1][6-9][0-9]{9}$\n",
    "import re\n",
    "phone = input(\"enter your mobile number: \")\n",
    "pattern = \"^[6-9][0-9]{9}$|^[+][9][1][6-9][0-9]{9}$\"\n",
    "if re.match(pattern,phone):\n",
    "    print('valid number')\n",
    "else:\n",
    "    print('invalid')"
   ]
  },
  {
   "cell_type": "markdown",
   "id": "f5210bf9",
   "metadata": {},
   "source": [
    "- file handling\n",
    "  - used to store the related information\n",
    "- steps\n",
    "  - opening a flle(two ways)\n",
    "      - open(filename,mode)\n",
    "      - with open(filename,mode) as data:\n",
    "   - doing operations\n",
    "      - read,Write\n",
    "   - closinga file\n",
    "      - close()\n",
    "- mode\n",
    " - read mode - r\n",
    " - write mode  -w\n",
    " - append     -a"
   ]
  },
  {
   "cell_type": "code",
   "execution_count": 8,
   "id": "22583e91",
   "metadata": {},
   "outputs": [
    {
     "name": "stdout",
     "output_type": "stream",
     "text": [
      "hello welcome to python online programm\n"
     ]
    }
   ],
   "source": [
    "# open()\n",
    "data = open('Data file/demo.txt')\n",
    "info = data.read()\n",
    "print(info)"
   ]
  },
  {
   "cell_type": "code",
   "execution_count": 9,
   "id": "7558764e",
   "metadata": {},
   "outputs": [
    {
     "name": "stdout",
     "output_type": "stream",
     "text": [
      "hello welcome to python online programm\n"
     ]
    }
   ],
   "source": [
    "data = open('Data file/demo.txt','r')\n",
    "info = data.read()\n",
    "print(info)"
   ]
  },
  {
   "cell_type": "code",
   "execution_count": 10,
   "id": "2402b80f",
   "metadata": {},
   "outputs": [
    {
     "name": "stdout",
     "output_type": "stream",
     "text": [
      "18\n"
     ]
    }
   ],
   "source": [
    "data = open('Data file/newfile.txt','w')\n",
    "info = data.write('new file added....')\n",
    "data.close()\n",
    "print(info)"
   ]
  },
  {
   "cell_type": "code",
   "execution_count": 13,
   "id": "0bbc2c59",
   "metadata": {},
   "outputs": [
    {
     "name": "stdout",
     "output_type": "stream",
     "text": [
      "hello welcome to python online programm\n"
     ]
    }
   ],
   "source": [
    "with open('Data file/demo.txt') as d:\n",
    "    k = d.read()\n",
    "    print(k)"
   ]
  },
  {
   "cell_type": "code",
   "execution_count": 14,
   "id": "d7fb5f89",
   "metadata": {},
   "outputs": [
    {
     "name": "stdout",
     "output_type": "stream",
     "text": [
      "6\n"
     ]
    }
   ],
   "source": [
    "with open('Data file/demo.txt','w') as d:\n",
    "    k =d.write('Hiiiii')\n",
    "    print(k)"
   ]
  },
  {
   "cell_type": "code",
   "execution_count": null,
   "id": "fd7653f6",
   "metadata": {},
   "outputs": [],
   "source": [
    "with open('Data file/demo.txt','w') as d:\n",
    "    k = d.write('welcome....')\n",
    "    print(k)\n"
   ]
  },
  {
   "cell_type": "markdown",
   "id": "0f169148",
   "metadata": {},
   "source": [
    "- tell()\n",
    "    - helps to know d cursor position\n",
    "- shell()\n",
    "  - helps to move the cursor to particular position"
   ]
  },
  {
   "cell_type": "code",
   "execution_count": 15,
   "id": "db31ed24",
   "metadata": {},
   "outputs": [
    {
     "name": "stdout",
     "output_type": "stream",
     "text": [
      "6\n"
     ]
    }
   ],
   "source": [
    "with open('Data file/demo.txt','r') as l:\n",
    "    w = l.read()\n",
    "    print(l.tell())"
   ]
  },
  {
   "cell_type": "code",
   "execution_count": 2,
   "id": "f3f486cb",
   "metadata": {},
   "outputs": [
    {
     "name": "stdout",
     "output_type": "stream",
     "text": [
      "i\n"
     ]
    }
   ],
   "source": [
    "with open('Data file/demo.txt','r') as l:\n",
    "    l.read()\n",
    "    l.seek(5)\n",
    "    print(l.read(10))"
   ]
  },
  {
   "cell_type": "code",
   "execution_count": 3,
   "id": "73e53ee9",
   "metadata": {},
   "outputs": [
    {
     "name": "stdout",
     "output_type": "stream",
     "text": [
      "new file added\n",
      "\n",
      "python\n",
      "\n",
      "online\n"
     ]
    }
   ],
   "source": [
    "with open('Data file/newfile1.txt','r') as l:\n",
    "    print(l.readline())\n",
    "    print(l.readline())\n",
    "    print(l.readline())"
   ]
  },
  {
   "cell_type": "code",
   "execution_count": 1,
   "id": "3cd617ab",
   "metadata": {},
   "outputs": [
    {
     "name": "stdout",
     "output_type": "stream",
     "text": [
      "new file added\n",
      "\n"
     ]
    }
   ],
   "source": [
    "with open('Data file/newfile1.txt','r') as l:\n",
    "    print(l.readline()) "
   ]
  },
  {
   "cell_type": "code",
   "execution_count": 6,
   "id": "b2121587",
   "metadata": {},
   "outputs": [
    {
     "name": "stdout",
     "output_type": "stream",
     "text": [
      "['new', 'file', 'added', 'python', 'online']\n"
     ]
    }
   ],
   "source": [
    "with open('Data file/newfile1.txt','r') as l:\n",
    "    fh = l.read()\n",
    "    words = fh.split()\n",
    "    print(words)"
   ]
  },
  {
   "cell_type": "code",
   "execution_count": 2,
   "id": "3875a55f",
   "metadata": {},
   "outputs": [
    {
     "name": "stdout",
     "output_type": "stream",
     "text": [
      "3\n"
     ]
    }
   ],
   "source": [
    "with open('Data file/newfile1.txt','r') as l:\n",
    "    fh = l.readlines()\n",
    "    # print (type(fh))\n",
    "    print(len(fh))"
   ]
  },
  {
   "cell_type": "markdown",
   "id": "cf02353b",
   "metadata": {},
   "source": [
    "- file data processing\n",
    "  - generate student marks dynamically\n",
    "  - class avg\n",
    "  - pas,fail,disrtinction\n",
    "  - highest marks freq\n",
    "  - lowest marks freq\n",
    "  "
   ]
  },
  {
   "cell_type": "code",
   "execution_count": 5,
   "id": "dde2452f",
   "metadata": {},
   "outputs": [
    {
     "name": "stdout",
     "output_type": "stream",
     "text": [
      "Enter number of students: 50\n",
      "Enter lowest marks range: 1\n",
      "Enter upper marks range: 100\n"
     ]
    }
   ],
   "source": [
    "# generate student marks\n",
    "from random import randint\n",
    "def marksgen(n,lb,ub):\n",
    "    with open('data file/marks.txt','w') as f:\n",
    "        for i in range(0,n):\n",
    "            r = randint(lb,ub)\n",
    "            f.write(str(r) + '\\n')\n",
    "    return\n",
    "n = int(input(\"Enter number of students: \"))\n",
    "lb = int(input(\"Enter lowest marks range: \"))\n",
    "ub = int(input(\"Enter upper marks range: \"))\n",
    "marksgen(n,lb,ub)"
   ]
  },
  {
   "cell_type": "code",
   "execution_count": 7,
   "id": "329ffcee",
   "metadata": {},
   "outputs": [
    {
     "data": {
      "text/plain": [
       "48.08"
      ]
     },
     "execution_count": 7,
     "metadata": {},
     "output_type": "execute_result"
    }
   ],
   "source": [
    "# class Average\n",
    "def classAvg(filepath):\n",
    "    with open(filepath) as f:\n",
    "        fdata = f.read()\n",
    "        marks = fdata.split()\n",
    "        sum = 0\n",
    "        for mark in marks:\n",
    "            sum += int(mark)\n",
    "    return sum / len(marks)\n",
    "filepath = 'data file/marks.txt'\n",
    "classAvg(filepath)"
   ]
  },
  {
   "cell_type": "markdown",
   "id": "9c0ca1f5",
   "metadata": {},
   "source": [
    "Task(regular Exp)\n",
    "Email validation\n",
    "Tasks(File handling)\n",
    "Character Count\n",
    "Words count\n",
    "Unique words count\n",
    "frequency of words\n",
    "Tasks(File Data Processing)\n",
    "pass,fail and distinction percentage"
   ]
  },
  {
   "cell_type": "code",
   "execution_count": 9,
   "id": "ee90fc47",
   "metadata": {},
   "outputs": [
    {
     "ename": "SyntaxError",
     "evalue": "invalid syntax (<ipython-input-9-9cb37f3567a4>, line 1)",
     "output_type": "error",
     "traceback": [
      "\u001b[1;36m  File \u001b[1;32m\"<ipython-input-9-9cb37f3567a4>\"\u001b[1;36m, line \u001b[1;32m1\u001b[0m\n\u001b[1;33m    values regexp count('Siva sai','s')\u001b[0m\n\u001b[1;37m           ^\u001b[0m\n\u001b[1;31mSyntaxError\u001b[0m\u001b[1;31m:\u001b[0m invalid syntax\n"
     ]
    }
   ],
   "source": [
    "values regexp count('Siva sai','s')"
   ]
  }
 ],
 "metadata": {
  "kernelspec": {
   "display_name": "Python 3",
   "language": "python",
   "name": "python3"
  },
  "language_info": {
   "codemirror_mode": {
    "name": "ipython",
    "version": 3
   },
   "file_extension": ".py",
   "mimetype": "text/x-python",
   "name": "python",
   "nbconvert_exporter": "python",
   "pygments_lexer": "ipython3",
   "version": "3.8.8"
  }
 },
 "nbformat": 4,
 "nbformat_minor": 5
}
