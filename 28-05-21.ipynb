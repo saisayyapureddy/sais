{
 "cells": [
  {
   "cell_type": "markdown",
   "id": "15d36708",
   "metadata": {},
   "source": [
    "- Task(regular Exp)\n",
    "     - Email validation\n",
    "- Tasks(File handling)\n",
    "     - Character Count\n",
    "     - Words count\n",
    "     - Unique words count\n",
    "     - frequency of words\n",
    "- Tasks(File Data Processing)\n",
    "- pass,fail and distinction percentage"
   ]
  },
  {
   "cell_type": "code",
   "execution_count": 1,
   "id": "ecb6a615",
   "metadata": {},
   "outputs": [
    {
     "name": "stdout",
     "output_type": "stream",
     "text": [
      "Enter your email: saisayyapureddy550@gmail.com\n",
      "Valid..\n"
     ]
    }
   ],
   "source": [
    "# email validation\n",
    "# ^[0-9a-z][a-z0-9_.]{5,20}[@][a-z]{5,9}[.][a-z]{2,5}$\n",
    "import re\n",
    "email = input(\"Enter your email: \")\n",
    "pattern = '^[0-9a-z][a-z0-9_.]{5,20}[@][a-z]{5,9}[.][a-z]{2,5}$'\n",
    "if re.match(pattern,email):\n",
    "    print('Valid..')\n",
    "else:\n",
    "    print(\"Invalid..\")"
   ]
  },
  {
   "cell_type": "code",
   "execution_count": 4,
   "id": "00c297d0",
   "metadata": {},
   "outputs": [
    {
     "name": "stdout",
     "output_type": "stream",
     "text": [
      "75\n"
     ]
    }
   ],
   "source": [
    "# Character Count\n",
    "def charcount(filepath):\n",
    "    with open(filepath) as f:\n",
    "        c = 0\n",
    "        fh = f.read()\n",
    "        for i in fh:\n",
    "            if i != '\\n' and i != \" \":\n",
    "                c += 1\n",
    "        print(c)\n",
    "filepath = 'data file/task.txt'\n",
    "charcount(filepath)"
   ]
  },
  {
   "cell_type": "code",
   "execution_count": 5,
   "id": "9d5549cc",
   "metadata": {},
   "outputs": [
    {
     "data": {
      "text/plain": [
       "13"
      ]
     },
     "execution_count": 5,
     "metadata": {},
     "output_type": "execute_result"
    }
   ],
   "source": [
    "# words count\n",
    "def wordscount(filepath):\n",
    "    with open(filepath) as f:\n",
    "        fh = f.read()\n",
    "        words = fh.split()\n",
    "        c = len(words)\n",
    "    return c\n",
    "filepath = 'data file/task.txt'\n",
    "wordscount(filepath)"
   ]
  },
  {
   "cell_type": "code",
   "execution_count": 6,
   "id": "cd0e70c1",
   "metadata": {},
   "outputs": [
    {
     "data": {
      "text/plain": [
       "['hi',\n",
       " 'all',\n",
       " 'welcome',\n",
       " 'to',\n",
       " 'python',\n",
       " 'online',\n",
       " 'programming',\n",
       " 'todays',\n",
       " 'concept',\n",
       " 'file',\n",
       " 'handling',\n",
       " 'scripting']"
      ]
     },
     "execution_count": 6,
     "metadata": {},
     "output_type": "execute_result"
    }
   ],
   "source": [
    "# Unique words\n",
    "def uniquewords(filepath):\n",
    "    uniquewords = []\n",
    "    with open(filepath) as f:\n",
    "        fh = f.read()\n",
    "        data = fh.split()\n",
    "        for word in data:\n",
    "            if word not in uniquewords:\n",
    "                uniquewords.append(word)\n",
    "    return uniquewords\n",
    "filepath = 'data file/task.txt'\n",
    "uniquewords(filepath)"
   ]
  },
  {
   "cell_type": "code",
   "execution_count": 7,
   "id": "09df9a9e",
   "metadata": {},
   "outputs": [
    {
     "data": {
      "text/plain": [
       "{'hi': 1,\n",
       " 'all': 1,\n",
       " 'welcome': 1,\n",
       " 'to': 1,\n",
       " 'python': 1,\n",
       " 'online': 1,\n",
       " 'programming': 1,\n",
       " 'todays': 1,\n",
       " 'concept': 1,\n",
       " 'file': 2,\n",
       " 'handling': 1,\n",
       " 'scripting': 1}"
      ]
     },
     "execution_count": 7,
     "metadata": {},
     "output_type": "execute_result"
    }
   ],
   "source": [
    "# frequency of words\n",
    "def wordsfreq(filepath):\n",
    "    with open(filepath) as f:\n",
    "        d = {}\n",
    "        fh = f.read()\n",
    "        data = fh.split()\n",
    "        for word in data:\n",
    "            a = data.count(word)\n",
    "            d[word] = a\n",
    "    return d\n",
    "filepath = 'data file/task.txt'\n",
    "wordsfreq(filepath)"
   ]
  },
  {
   "cell_type": "code",
   "execution_count": 9,
   "id": "45bad65d",
   "metadata": {},
   "outputs": [
    {
     "name": "stdout",
     "output_type": "stream",
     "text": [
      "% of student passed 64.0\n",
      "% of student failed 36.0\n",
      "% of students with distinction 26.0\n"
     ]
    }
   ],
   "source": [
    "def reportgen(filepath):\n",
    "    with open(filepath) as f:\n",
    "        filedata = f.read()\n",
    "        marks = filedata.split()\n",
    "        pc = 0\n",
    "        dc = 0\n",
    "        for mark in marks:\n",
    "            if int(mark) >= 35:\n",
    "                pc += 1\n",
    "            if int(mark) >= 70:\n",
    "                dc += 1\n",
    "        passpercentage = (pc / len(marks))*100\n",
    "        failedpercentage = 100 - passpercentage\n",
    "        distinctionpercentage = (dc / len(marks))*100\n",
    "        print('% of student passed',passpercentage)\n",
    "        print('% of student failed',failedpercentage)\n",
    "        print('% of students with distinction',distinctionpercentage)\n",
    "filepath = 'data file/marks.txt'\n",
    "reportgen(filepath)"
   ]
  },
  {
   "cell_type": "markdown",
   "id": "87d2d8ae",
   "metadata": {},
   "source": [
    "- comprehensions\n",
    "    - create a neww sequence using given python sequence\n",
    "    - makes code simple and concise\n",
    "- types\n",
    "   - list comprehension \n",
    "   - dictionary comprehension\n",
    "   - set comprehension\n",
    "- list comprehension\n",
    "   -elegant way to defind and create  list based on existing lines\n",
    "   - more compact and faster compared to fuction,loops\n",
    " - syntax\n",
    "    -[output for iteratingvariable in sequence condition\n",
    "    "
   ]
  },
  {
   "cell_type": "code",
   "execution_count": 12,
   "id": "e8acd170",
   "metadata": {},
   "outputs": [
    {
     "name": "stdout",
     "output_type": "stream",
     "text": [
      "[1, 2, 3, 4, 5, 6, 7, 8, 9, 10]\n"
     ]
    }
   ],
   "source": [
    "l = []\n",
    "for i in range(1,11):\n",
    "    l.append(i)\n",
    "print(l)"
   ]
  },
  {
   "cell_type": "code",
   "execution_count": 15,
   "id": "287a3ff0",
   "metadata": {},
   "outputs": [
    {
     "data": {
      "text/plain": [
       "[1, 3, 5, 7, 9]"
      ]
     },
     "execution_count": 15,
     "metadata": {},
     "output_type": "execute_result"
    }
   ],
   "source": [
    "g = [i for i in range(1,11) if i%2 != 0]\n",
    "g"
   ]
  },
  {
   "cell_type": "code",
   "execution_count": 14,
   "id": "554da217",
   "metadata": {},
   "outputs": [
    {
     "name": "stdout",
     "output_type": "stream",
     "text": [
      "[14, 28, 42, 56, 70, 84, 98]\n"
     ]
    }
   ],
   "source": [
    "# 1 - 100 divisible by 2 and 7\n",
    "l=[l for l in range(1,101) if l%2==0 and l%7==0]\n",
    "print(l)"
   ]
  },
  {
   "cell_type": "code",
   "execution_count": 16,
   "id": "7f885908",
   "metadata": {},
   "outputs": [
    {
     "data": {
      "text/plain": [
       "['odd', 'even', 'odd', 'even', 'odd', 'even', 'odd', 'even', 'odd']"
      ]
     },
     "execution_count": 16,
     "metadata": {},
     "output_type": "execute_result"
    }
   ],
   "source": [
    "evenodd = [\"even\" if i %2 ==0 else \"odd\" for i in range(1,10)]\n",
    "evenodd"
   ]
  },
  {
   "cell_type": "code",
   "execution_count": 19,
   "id": "b46a6957",
   "metadata": {},
   "outputs": [
    {
     "data": {
      "text/plain": [
       "[[1, 3, 5, 7], [2, 4, 6, 8], [1, 5, 8, 0]]"
      ]
     },
     "execution_count": 19,
     "metadata": {},
     "output_type": "execute_result"
    }
   ],
   "source": [
    "# transpose of matrix\n",
    "m = [[1,2,1],[3,4,5],[5,6,8],[7,8,0]]\n",
    "t = [ [row[i] for row in m]for i in range(3)]\n",
    "t"
   ]
  },
  {
   "cell_type": "code",
   "execution_count": 20,
   "id": "6ce13217",
   "metadata": {},
   "outputs": [
    {
     "data": {
      "text/plain": [
       "['good', 'evenong', 'everyone', 'welcome', 'to', 'python', 'online', 'program']"
      ]
     },
     "execution_count": 20,
     "metadata": {},
     "output_type": "execute_result"
    }
   ],
   "source": [
    "p = ['good evenong everyone','welcome to python online program']\n",
    "# print words using list comprehension \n",
    "l = [word for words in p for word in words.split()]\n",
    "l"
   ]
  },
  {
   "cell_type": "markdown",
   "id": "acd5438f",
   "metadata": {},
   "source": [
    "- dictionary comprehension\n",
    "    - syntax\n",
    "          - {key:value for iter_ in sequence}\n",
    "    - makes code run slower and consumes more memeory\n",
    "    "
   ]
  },
  {
   "cell_type": "code",
   "execution_count": 21,
   "id": "8db599f6",
   "metadata": {},
   "outputs": [
    {
     "data": {
      "text/plain": [
       "{1: 1, 2: 4, 3: 9, 4: 16, 5: 25}"
      ]
     },
     "execution_count": 21,
     "metadata": {},
     "output_type": "execute_result"
    }
   ],
   "source": [
    "mydict = {i:i**2 for i in [1,2,3,4,5]}\n",
    "mydict"
   ]
  },
  {
   "cell_type": "code",
   "execution_count": 22,
   "id": "8b8807ed",
   "metadata": {},
   "outputs": [
    {
     "data": {
      "text/plain": [
       "{'python': 6, 'online': 6, 'prog': 4, 'by': 2, 'apssdc': 6}"
      ]
     },
     "execution_count": 22,
     "metadata": {},
     "output_type": "execute_result"
    }
   ],
   "source": [
    "l = ['python','online','prog','by','apssdc']\n",
    "mydict= {words:len(words)for words in l}\n",
    "mydict"
   ]
  },
  {
   "cell_type": "code",
   "execution_count": 24,
   "id": "e5920785",
   "metadata": {},
   "outputs": [
    {
     "data": {
      "text/plain": [
       "{1, 2, 3, 4, 5, 6}"
      ]
     },
     "execution_count": 24,
     "metadata": {},
     "output_type": "execute_result"
    }
   ],
   "source": [
    "# set comprehension\n",
    "{ var for var in [1,2,3,4,5,6,1,3,4,]}"
   ]
  },
  {
   "cell_type": "code",
   "execution_count": 26,
   "id": "47635806",
   "metadata": {},
   "outputs": [
    {
     "data": {
      "text/plain": [
       "{(1, 2), (2, 2), (3, 2), (4, 2), (5, 2)}"
      ]
     },
     "execution_count": 26,
     "metadata": {},
     "output_type": "execute_result"
    }
   ],
   "source": [
    "l = [1,2,3,4,5,1,2,3,4,5]\n",
    "{(var,l.count(var))for var in l}"
   ]
  },
  {
   "cell_type": "code",
   "execution_count": null,
   "id": "64b52a2e",
   "metadata": {},
   "outputs": [],
   "source": [
    "- iterators\n",
    "     -  objects that contains no of elements\n",
    "     -  two methods__iter__,__next__\n",
    "        - __iter__\n",
    "        - takes an iterable \n",
    "- generators"
   ]
  },
  {
   "cell_type": "code",
   "execution_count": 3,
   "id": "de483eec",
   "metadata": {},
   "outputs": [
    {
     "name": "stdout",
     "output_type": "stream",
     "text": [
      "p\n",
      "y\n",
      "t\n",
      "h\n"
     ]
    }
   ],
   "source": [
    "s = 'python'\n",
    "it = iter(s)\n",
    "print(next(it))\n",
    "print(next(it))\n",
    "print(next(it))\n",
    "print(next(it))"
   ]
  },
  {
   "cell_type": "code",
   "execution_count": 4,
   "id": "87618333",
   "metadata": {},
   "outputs": [
    {
     "name": "stdout",
     "output_type": "stream",
     "text": [
      "p\n",
      "y\n",
      "t\n",
      "h\n",
      "o\n",
      "n\n"
     ]
    }
   ],
   "source": [
    "for i in s:\n",
    "    print(i)"
   ]
  },
  {
   "cell_type": "code",
   "execution_count": 5,
   "id": "9f1574e7",
   "metadata": {},
   "outputs": [
    {
     "name": "stdout",
     "output_type": "stream",
     "text": [
      "p\n",
      "y\n",
      "t\n",
      "h\n",
      "o\n",
      "n\n"
     ]
    },
    {
     "ename": "StopIteration",
     "evalue": "",
     "output_type": "error",
     "traceback": [
      "\u001b[1;31m---------------------------------------------------------------------------\u001b[0m",
      "\u001b[1;31mStopIteration\u001b[0m                             Traceback (most recent call last)",
      "\u001b[1;32m<ipython-input-5-adb0e9f5b4be>\u001b[0m in \u001b[0;36m<module>\u001b[1;34m\u001b[0m\n\u001b[0;32m      7\u001b[0m \u001b[0mprint\u001b[0m\u001b[1;33m(\u001b[0m\u001b[0mnext\u001b[0m\u001b[1;33m(\u001b[0m\u001b[0mit\u001b[0m\u001b[1;33m)\u001b[0m\u001b[1;33m)\u001b[0m\u001b[1;33m\u001b[0m\u001b[1;33m\u001b[0m\u001b[0m\n\u001b[0;32m      8\u001b[0m \u001b[0mprint\u001b[0m\u001b[1;33m(\u001b[0m\u001b[0mnext\u001b[0m\u001b[1;33m(\u001b[0m\u001b[0mit\u001b[0m\u001b[1;33m)\u001b[0m\u001b[1;33m)\u001b[0m\u001b[1;33m\u001b[0m\u001b[1;33m\u001b[0m\u001b[0m\n\u001b[1;32m----> 9\u001b[1;33m \u001b[0mprint\u001b[0m\u001b[1;33m(\u001b[0m\u001b[0mnext\u001b[0m\u001b[1;33m(\u001b[0m\u001b[0mit\u001b[0m\u001b[1;33m)\u001b[0m\u001b[1;33m)\u001b[0m\u001b[1;33m\u001b[0m\u001b[1;33m\u001b[0m\u001b[0m\n\u001b[0m",
      "\u001b[1;31mStopIteration\u001b[0m: "
     ]
    }
   ],
   "source": [
    "s = 'python'\n",
    "it = iter(s)\n",
    "print(next(it))\n",
    "print(next(it))\n",
    "print(next(it))\n",
    "print(next(it))\n",
    "print(next(it))\n",
    "print(next(it))\n",
    "print(next(it))"
   ]
  },
  {
   "cell_type": "code",
   "execution_count": 6,
   "id": "adc06330",
   "metadata": {},
   "outputs": [
    {
     "name": "stdout",
     "output_type": "stream",
     "text": [
      "1\n",
      "2\n",
      "3\n",
      "4\n",
      "5\n"
     ]
    },
    {
     "ename": "StopIteration",
     "evalue": "",
     "output_type": "error",
     "traceback": [
      "\u001b[1;31m---------------------------------------------------------------------------\u001b[0m",
      "\u001b[1;31mStopIteration\u001b[0m                             Traceback (most recent call last)",
      "\u001b[1;32m<ipython-input-6-3d25a27ee05b>\u001b[0m in \u001b[0;36m<module>\u001b[1;34m\u001b[0m\n\u001b[0;32m     17\u001b[0m \u001b[0mprint\u001b[0m\u001b[1;33m(\u001b[0m\u001b[0mnext\u001b[0m\u001b[1;33m(\u001b[0m\u001b[0mmyiter\u001b[0m\u001b[1;33m)\u001b[0m\u001b[1;33m)\u001b[0m\u001b[1;33m\u001b[0m\u001b[1;33m\u001b[0m\u001b[0m\n\u001b[0;32m     18\u001b[0m \u001b[0mprint\u001b[0m\u001b[1;33m(\u001b[0m\u001b[0mnext\u001b[0m\u001b[1;33m(\u001b[0m\u001b[0mmyiter\u001b[0m\u001b[1;33m)\u001b[0m\u001b[1;33m)\u001b[0m\u001b[1;33m\u001b[0m\u001b[1;33m\u001b[0m\u001b[0m\n\u001b[1;32m---> 19\u001b[1;33m \u001b[0mprint\u001b[0m\u001b[1;33m(\u001b[0m\u001b[0mnext\u001b[0m\u001b[1;33m(\u001b[0m\u001b[0mmyiter\u001b[0m\u001b[1;33m)\u001b[0m\u001b[1;33m)\u001b[0m\u001b[1;33m\u001b[0m\u001b[1;33m\u001b[0m\u001b[0m\n\u001b[0m",
      "\u001b[1;32m<ipython-input-6-3d25a27ee05b>\u001b[0m in \u001b[0;36m__next__\u001b[1;34m(self)\u001b[0m\n\u001b[0;32m      9\u001b[0m             \u001b[1;32mreturn\u001b[0m \u001b[0mx\u001b[0m\u001b[1;33m\u001b[0m\u001b[1;33m\u001b[0m\u001b[0m\n\u001b[0;32m     10\u001b[0m         \u001b[1;32melse\u001b[0m\u001b[1;33m:\u001b[0m\u001b[1;33m\u001b[0m\u001b[1;33m\u001b[0m\u001b[0m\n\u001b[1;32m---> 11\u001b[1;33m             \u001b[1;32mraise\u001b[0m \u001b[0mStopIteration\u001b[0m\u001b[1;33m\u001b[0m\u001b[1;33m\u001b[0m\u001b[0m\n\u001b[0m\u001b[0;32m     12\u001b[0m \u001b[0mobj\u001b[0m \u001b[1;33m=\u001b[0m \u001b[0mMynum1\u001b[0m\u001b[1;33m(\u001b[0m\u001b[1;33m)\u001b[0m\u001b[1;33m\u001b[0m\u001b[1;33m\u001b[0m\u001b[0m\n\u001b[0;32m     13\u001b[0m \u001b[0mmyiter\u001b[0m \u001b[1;33m=\u001b[0m \u001b[0miter\u001b[0m\u001b[1;33m(\u001b[0m\u001b[0mobj\u001b[0m\u001b[1;33m)\u001b[0m\u001b[1;33m\u001b[0m\u001b[1;33m\u001b[0m\u001b[0m\n",
      "\u001b[1;31mStopIteration\u001b[0m: "
     ]
    }
   ],
   "source": [
    "class Mynum1:\n",
    "    def __iter__(self):\n",
    "        self. a = 1\n",
    "        return self\n",
    "    def __next__(self):\n",
    "        if self.a <= 5:\n",
    "            x = self.a\n",
    "            self.a += 1\n",
    "            return x\n",
    "        else:\n",
    "            raise StopIteration\n",
    "obj = Mynum1()\n",
    "myiter = iter(obj)\n",
    "print(next(myiter))\n",
    "print(next(myiter))\n",
    "print(next(myiter))\n",
    "print(next(myiter))\n",
    "print(next(myiter))\n",
    "print(next(myiter))"
   ]
  },
  {
   "cell_type": "code",
   "execution_count": null,
   "id": "877bdc53",
   "metadata": {},
   "outputs": [],
   "source": []
  }
 ],
 "metadata": {
  "kernelspec": {
   "display_name": "Python 3",
   "language": "python",
   "name": "python3"
  },
  "language_info": {
   "codemirror_mode": {
    "name": "ipython",
    "version": 3
   },
   "file_extension": ".py",
   "mimetype": "text/x-python",
   "name": "python",
   "nbconvert_exporter": "python",
   "pygments_lexer": "ipython3",
   "version": "3.8.8"
  }
 },
 "nbformat": 4,
 "nbformat_minor": 5
}
